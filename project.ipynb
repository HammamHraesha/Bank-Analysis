{
 "cells": [
  {
   "cell_type": "code",
   "execution_count": 46,
   "metadata": {},
   "outputs": [
    {
     "data": {
      "text/html": [
       "<div>\n",
       "<style scoped>\n",
       "    .dataframe tbody tr th:only-of-type {\n",
       "        vertical-align: middle;\n",
       "    }\n",
       "\n",
       "    .dataframe tbody tr th {\n",
       "        vertical-align: top;\n",
       "    }\n",
       "\n",
       "    .dataframe thead th {\n",
       "        text-align: right;\n",
       "    }\n",
       "</style>\n",
       "<table border=\"1\" class=\"dataframe\">\n",
       "  <thead>\n",
       "    <tr style=\"text-align: right;\">\n",
       "      <th></th>\n",
       "      <th>age</th>\n",
       "      <th>job</th>\n",
       "      <th>marital</th>\n",
       "      <th>education</th>\n",
       "      <th>default</th>\n",
       "      <th>housing</th>\n",
       "      <th>loan</th>\n",
       "      <th>contact</th>\n",
       "      <th>month</th>\n",
       "      <th>day_of_week</th>\n",
       "      <th>...</th>\n",
       "      <th>campaign</th>\n",
       "      <th>pdays</th>\n",
       "      <th>previous</th>\n",
       "      <th>poutcome</th>\n",
       "      <th>emp.var.rate</th>\n",
       "      <th>cons.price.idx</th>\n",
       "      <th>cons.conf.idx</th>\n",
       "      <th>euribor3m</th>\n",
       "      <th>nr.employed</th>\n",
       "      <th>y</th>\n",
       "    </tr>\n",
       "  </thead>\n",
       "  <tbody>\n",
       "    <tr>\n",
       "      <th>0</th>\n",
       "      <td>56</td>\n",
       "      <td>housemaid</td>\n",
       "      <td>married</td>\n",
       "      <td>basic.4y</td>\n",
       "      <td>no</td>\n",
       "      <td>no</td>\n",
       "      <td>no</td>\n",
       "      <td>telephone</td>\n",
       "      <td>may</td>\n",
       "      <td>mon</td>\n",
       "      <td>...</td>\n",
       "      <td>1</td>\n",
       "      <td>999</td>\n",
       "      <td>0</td>\n",
       "      <td>nonexistent</td>\n",
       "      <td>1.1</td>\n",
       "      <td>93.994</td>\n",
       "      <td>-36.4</td>\n",
       "      <td>4.857</td>\n",
       "      <td>5191.0</td>\n",
       "      <td>no</td>\n",
       "    </tr>\n",
       "    <tr>\n",
       "      <th>1</th>\n",
       "      <td>57</td>\n",
       "      <td>services</td>\n",
       "      <td>married</td>\n",
       "      <td>high.school</td>\n",
       "      <td>unknown</td>\n",
       "      <td>no</td>\n",
       "      <td>no</td>\n",
       "      <td>telephone</td>\n",
       "      <td>may</td>\n",
       "      <td>mon</td>\n",
       "      <td>...</td>\n",
       "      <td>1</td>\n",
       "      <td>999</td>\n",
       "      <td>0</td>\n",
       "      <td>nonexistent</td>\n",
       "      <td>1.1</td>\n",
       "      <td>93.994</td>\n",
       "      <td>-36.4</td>\n",
       "      <td>4.857</td>\n",
       "      <td>5191.0</td>\n",
       "      <td>no</td>\n",
       "    </tr>\n",
       "    <tr>\n",
       "      <th>2</th>\n",
       "      <td>37</td>\n",
       "      <td>services</td>\n",
       "      <td>married</td>\n",
       "      <td>high.school</td>\n",
       "      <td>no</td>\n",
       "      <td>yes</td>\n",
       "      <td>no</td>\n",
       "      <td>telephone</td>\n",
       "      <td>may</td>\n",
       "      <td>mon</td>\n",
       "      <td>...</td>\n",
       "      <td>1</td>\n",
       "      <td>999</td>\n",
       "      <td>0</td>\n",
       "      <td>nonexistent</td>\n",
       "      <td>1.1</td>\n",
       "      <td>93.994</td>\n",
       "      <td>-36.4</td>\n",
       "      <td>4.857</td>\n",
       "      <td>5191.0</td>\n",
       "      <td>no</td>\n",
       "    </tr>\n",
       "    <tr>\n",
       "      <th>3</th>\n",
       "      <td>40</td>\n",
       "      <td>admin.</td>\n",
       "      <td>married</td>\n",
       "      <td>basic.6y</td>\n",
       "      <td>no</td>\n",
       "      <td>no</td>\n",
       "      <td>no</td>\n",
       "      <td>telephone</td>\n",
       "      <td>may</td>\n",
       "      <td>mon</td>\n",
       "      <td>...</td>\n",
       "      <td>1</td>\n",
       "      <td>999</td>\n",
       "      <td>0</td>\n",
       "      <td>nonexistent</td>\n",
       "      <td>1.1</td>\n",
       "      <td>93.994</td>\n",
       "      <td>-36.4</td>\n",
       "      <td>4.857</td>\n",
       "      <td>5191.0</td>\n",
       "      <td>no</td>\n",
       "    </tr>\n",
       "    <tr>\n",
       "      <th>4</th>\n",
       "      <td>56</td>\n",
       "      <td>services</td>\n",
       "      <td>married</td>\n",
       "      <td>high.school</td>\n",
       "      <td>no</td>\n",
       "      <td>no</td>\n",
       "      <td>yes</td>\n",
       "      <td>telephone</td>\n",
       "      <td>may</td>\n",
       "      <td>mon</td>\n",
       "      <td>...</td>\n",
       "      <td>1</td>\n",
       "      <td>999</td>\n",
       "      <td>0</td>\n",
       "      <td>nonexistent</td>\n",
       "      <td>1.1</td>\n",
       "      <td>93.994</td>\n",
       "      <td>-36.4</td>\n",
       "      <td>4.857</td>\n",
       "      <td>5191.0</td>\n",
       "      <td>no</td>\n",
       "    </tr>\n",
       "    <tr>\n",
       "      <th>5</th>\n",
       "      <td>45</td>\n",
       "      <td>services</td>\n",
       "      <td>married</td>\n",
       "      <td>basic.9y</td>\n",
       "      <td>unknown</td>\n",
       "      <td>no</td>\n",
       "      <td>no</td>\n",
       "      <td>telephone</td>\n",
       "      <td>may</td>\n",
       "      <td>mon</td>\n",
       "      <td>...</td>\n",
       "      <td>1</td>\n",
       "      <td>999</td>\n",
       "      <td>0</td>\n",
       "      <td>nonexistent</td>\n",
       "      <td>1.1</td>\n",
       "      <td>93.994</td>\n",
       "      <td>-36.4</td>\n",
       "      <td>4.857</td>\n",
       "      <td>5191.0</td>\n",
       "      <td>no</td>\n",
       "    </tr>\n",
       "    <tr>\n",
       "      <th>6</th>\n",
       "      <td>59</td>\n",
       "      <td>admin.</td>\n",
       "      <td>married</td>\n",
       "      <td>professional.course</td>\n",
       "      <td>no</td>\n",
       "      <td>no</td>\n",
       "      <td>no</td>\n",
       "      <td>telephone</td>\n",
       "      <td>may</td>\n",
       "      <td>mon</td>\n",
       "      <td>...</td>\n",
       "      <td>1</td>\n",
       "      <td>999</td>\n",
       "      <td>0</td>\n",
       "      <td>nonexistent</td>\n",
       "      <td>1.1</td>\n",
       "      <td>93.994</td>\n",
       "      <td>-36.4</td>\n",
       "      <td>4.857</td>\n",
       "      <td>5191.0</td>\n",
       "      <td>no</td>\n",
       "    </tr>\n",
       "    <tr>\n",
       "      <th>7</th>\n",
       "      <td>41</td>\n",
       "      <td>blue-collar</td>\n",
       "      <td>married</td>\n",
       "      <td>unknown</td>\n",
       "      <td>unknown</td>\n",
       "      <td>no</td>\n",
       "      <td>no</td>\n",
       "      <td>telephone</td>\n",
       "      <td>may</td>\n",
       "      <td>mon</td>\n",
       "      <td>...</td>\n",
       "      <td>1</td>\n",
       "      <td>999</td>\n",
       "      <td>0</td>\n",
       "      <td>nonexistent</td>\n",
       "      <td>1.1</td>\n",
       "      <td>93.994</td>\n",
       "      <td>-36.4</td>\n",
       "      <td>4.857</td>\n",
       "      <td>5191.0</td>\n",
       "      <td>no</td>\n",
       "    </tr>\n",
       "    <tr>\n",
       "      <th>8</th>\n",
       "      <td>24</td>\n",
       "      <td>technician</td>\n",
       "      <td>single</td>\n",
       "      <td>professional.course</td>\n",
       "      <td>no</td>\n",
       "      <td>yes</td>\n",
       "      <td>no</td>\n",
       "      <td>telephone</td>\n",
       "      <td>may</td>\n",
       "      <td>mon</td>\n",
       "      <td>...</td>\n",
       "      <td>1</td>\n",
       "      <td>999</td>\n",
       "      <td>0</td>\n",
       "      <td>nonexistent</td>\n",
       "      <td>1.1</td>\n",
       "      <td>93.994</td>\n",
       "      <td>-36.4</td>\n",
       "      <td>4.857</td>\n",
       "      <td>5191.0</td>\n",
       "      <td>no</td>\n",
       "    </tr>\n",
       "    <tr>\n",
       "      <th>9</th>\n",
       "      <td>25</td>\n",
       "      <td>services</td>\n",
       "      <td>single</td>\n",
       "      <td>high.school</td>\n",
       "      <td>no</td>\n",
       "      <td>yes</td>\n",
       "      <td>no</td>\n",
       "      <td>telephone</td>\n",
       "      <td>may</td>\n",
       "      <td>mon</td>\n",
       "      <td>...</td>\n",
       "      <td>1</td>\n",
       "      <td>999</td>\n",
       "      <td>0</td>\n",
       "      <td>nonexistent</td>\n",
       "      <td>1.1</td>\n",
       "      <td>93.994</td>\n",
       "      <td>-36.4</td>\n",
       "      <td>4.857</td>\n",
       "      <td>5191.0</td>\n",
       "      <td>no</td>\n",
       "    </tr>\n",
       "  </tbody>\n",
       "</table>\n",
       "<p>10 rows × 21 columns</p>\n",
       "</div>"
      ],
      "text/plain": [
       "   age          job  marital            education  default housing loan  \\\n",
       "0   56    housemaid  married             basic.4y       no      no   no   \n",
       "1   57     services  married          high.school  unknown      no   no   \n",
       "2   37     services  married          high.school       no     yes   no   \n",
       "3   40       admin.  married             basic.6y       no      no   no   \n",
       "4   56     services  married          high.school       no      no  yes   \n",
       "5   45     services  married             basic.9y  unknown      no   no   \n",
       "6   59       admin.  married  professional.course       no      no   no   \n",
       "7   41  blue-collar  married              unknown  unknown      no   no   \n",
       "8   24   technician   single  professional.course       no     yes   no   \n",
       "9   25     services   single          high.school       no     yes   no   \n",
       "\n",
       "     contact month day_of_week  ...  campaign  pdays  previous     poutcome  \\\n",
       "0  telephone   may         mon  ...         1    999         0  nonexistent   \n",
       "1  telephone   may         mon  ...         1    999         0  nonexistent   \n",
       "2  telephone   may         mon  ...         1    999         0  nonexistent   \n",
       "3  telephone   may         mon  ...         1    999         0  nonexistent   \n",
       "4  telephone   may         mon  ...         1    999         0  nonexistent   \n",
       "5  telephone   may         mon  ...         1    999         0  nonexistent   \n",
       "6  telephone   may         mon  ...         1    999         0  nonexistent   \n",
       "7  telephone   may         mon  ...         1    999         0  nonexistent   \n",
       "8  telephone   may         mon  ...         1    999         0  nonexistent   \n",
       "9  telephone   may         mon  ...         1    999         0  nonexistent   \n",
       "\n",
       "  emp.var.rate  cons.price.idx  cons.conf.idx  euribor3m  nr.employed   y  \n",
       "0          1.1          93.994          -36.4      4.857       5191.0  no  \n",
       "1          1.1          93.994          -36.4      4.857       5191.0  no  \n",
       "2          1.1          93.994          -36.4      4.857       5191.0  no  \n",
       "3          1.1          93.994          -36.4      4.857       5191.0  no  \n",
       "4          1.1          93.994          -36.4      4.857       5191.0  no  \n",
       "5          1.1          93.994          -36.4      4.857       5191.0  no  \n",
       "6          1.1          93.994          -36.4      4.857       5191.0  no  \n",
       "7          1.1          93.994          -36.4      4.857       5191.0  no  \n",
       "8          1.1          93.994          -36.4      4.857       5191.0  no  \n",
       "9          1.1          93.994          -36.4      4.857       5191.0  no  \n",
       "\n",
       "[10 rows x 21 columns]"
      ]
     },
     "execution_count": 46,
     "metadata": {},
     "output_type": "execute_result"
    }
   ],
   "source": [
    "import pandas as pd\n",
    "import numpy as np\n",
    "import matplotlib as mtlp\n",
    "import matplotlib.pyplot as plt\n",
    "import category_encoders as ce\n",
    "from scipy import stats\n",
    "from scipy.stats import chi2\n",
    "from scipy.stats import pointbiserialr\n",
    "from statsmodels.stats import weightstats as stests\n",
    "from sklearn.model_selection import train_test_split, GridSearchCV, StratifiedKFold\n",
    "import gc\n",
    "from sklearn.pipeline import Pipeline\n",
    "from sklearn.ensemble import RandomForestClassifier, BaggingClassifier\n",
    "from sklearn.tree import DecisionTreeClassifier\n",
    "from sklearn.linear_model import LogisticRegression\n",
    "from sklearn.neighbors import KNeighborsClassifier\n",
    "from sklearn.linear_model import SGDClassifier\n",
    "from sklearn.metrics import roc_curve, roc_auc_score\n",
    "import time\n",
    "import warnings\n",
    "warnings.filterwarnings(\"ignore\")\n",
    "from tqdm import tqdm\n",
    "import plotly.graph_objs as go\n",
    "import seaborn as sbrn\n",
    "\n",
    "data = pd.read_csv (r'C:\\Users\\lenovo\\OneDrive\\Desktop\\DS dataset\\bank-additional-full.csv', sep=';')\n",
    "data.head(10)"
   ]
  },
  {
   "cell_type": "markdown",
   "metadata": {},
   "source": [
    "STATISTICAL DETAILS ABOUT THE NUMERIC VALUES\n"
   ]
  },
  {
   "cell_type": "code",
   "execution_count": 47,
   "metadata": {},
   "outputs": [
    {
     "data": {
      "text/html": [
       "<div>\n",
       "<style scoped>\n",
       "    .dataframe tbody tr th:only-of-type {\n",
       "        vertical-align: middle;\n",
       "    }\n",
       "\n",
       "    .dataframe tbody tr th {\n",
       "        vertical-align: top;\n",
       "    }\n",
       "\n",
       "    .dataframe thead th {\n",
       "        text-align: right;\n",
       "    }\n",
       "</style>\n",
       "<table border=\"1\" class=\"dataframe\">\n",
       "  <thead>\n",
       "    <tr style=\"text-align: right;\">\n",
       "      <th></th>\n",
       "      <th>age</th>\n",
       "      <th>duration</th>\n",
       "      <th>campaign</th>\n",
       "      <th>pdays</th>\n",
       "      <th>previous</th>\n",
       "      <th>emp.var.rate</th>\n",
       "      <th>cons.price.idx</th>\n",
       "      <th>cons.conf.idx</th>\n",
       "      <th>euribor3m</th>\n",
       "      <th>nr.employed</th>\n",
       "    </tr>\n",
       "  </thead>\n",
       "  <tbody>\n",
       "    <tr>\n",
       "      <th>count</th>\n",
       "      <td>41188.00000</td>\n",
       "      <td>41188.000000</td>\n",
       "      <td>41188.000000</td>\n",
       "      <td>41188.000000</td>\n",
       "      <td>41188.000000</td>\n",
       "      <td>41188.000000</td>\n",
       "      <td>41188.000000</td>\n",
       "      <td>41188.000000</td>\n",
       "      <td>41188.000000</td>\n",
       "      <td>41188.000000</td>\n",
       "    </tr>\n",
       "    <tr>\n",
       "      <th>mean</th>\n",
       "      <td>40.02406</td>\n",
       "      <td>258.285010</td>\n",
       "      <td>2.567593</td>\n",
       "      <td>962.475454</td>\n",
       "      <td>0.172963</td>\n",
       "      <td>0.081886</td>\n",
       "      <td>93.575664</td>\n",
       "      <td>-40.502600</td>\n",
       "      <td>3.621291</td>\n",
       "      <td>5167.035911</td>\n",
       "    </tr>\n",
       "    <tr>\n",
       "      <th>std</th>\n",
       "      <td>10.42125</td>\n",
       "      <td>259.279249</td>\n",
       "      <td>2.770014</td>\n",
       "      <td>186.910907</td>\n",
       "      <td>0.494901</td>\n",
       "      <td>1.570960</td>\n",
       "      <td>0.578840</td>\n",
       "      <td>4.628198</td>\n",
       "      <td>1.734447</td>\n",
       "      <td>72.251528</td>\n",
       "    </tr>\n",
       "    <tr>\n",
       "      <th>min</th>\n",
       "      <td>17.00000</td>\n",
       "      <td>0.000000</td>\n",
       "      <td>1.000000</td>\n",
       "      <td>0.000000</td>\n",
       "      <td>0.000000</td>\n",
       "      <td>-3.400000</td>\n",
       "      <td>92.201000</td>\n",
       "      <td>-50.800000</td>\n",
       "      <td>0.634000</td>\n",
       "      <td>4963.600000</td>\n",
       "    </tr>\n",
       "    <tr>\n",
       "      <th>25%</th>\n",
       "      <td>32.00000</td>\n",
       "      <td>102.000000</td>\n",
       "      <td>1.000000</td>\n",
       "      <td>999.000000</td>\n",
       "      <td>0.000000</td>\n",
       "      <td>-1.800000</td>\n",
       "      <td>93.075000</td>\n",
       "      <td>-42.700000</td>\n",
       "      <td>1.344000</td>\n",
       "      <td>5099.100000</td>\n",
       "    </tr>\n",
       "    <tr>\n",
       "      <th>50%</th>\n",
       "      <td>38.00000</td>\n",
       "      <td>180.000000</td>\n",
       "      <td>2.000000</td>\n",
       "      <td>999.000000</td>\n",
       "      <td>0.000000</td>\n",
       "      <td>1.100000</td>\n",
       "      <td>93.749000</td>\n",
       "      <td>-41.800000</td>\n",
       "      <td>4.857000</td>\n",
       "      <td>5191.000000</td>\n",
       "    </tr>\n",
       "    <tr>\n",
       "      <th>75%</th>\n",
       "      <td>47.00000</td>\n",
       "      <td>319.000000</td>\n",
       "      <td>3.000000</td>\n",
       "      <td>999.000000</td>\n",
       "      <td>0.000000</td>\n",
       "      <td>1.400000</td>\n",
       "      <td>93.994000</td>\n",
       "      <td>-36.400000</td>\n",
       "      <td>4.961000</td>\n",
       "      <td>5228.100000</td>\n",
       "    </tr>\n",
       "    <tr>\n",
       "      <th>max</th>\n",
       "      <td>98.00000</td>\n",
       "      <td>4918.000000</td>\n",
       "      <td>56.000000</td>\n",
       "      <td>999.000000</td>\n",
       "      <td>7.000000</td>\n",
       "      <td>1.400000</td>\n",
       "      <td>94.767000</td>\n",
       "      <td>-26.900000</td>\n",
       "      <td>5.045000</td>\n",
       "      <td>5228.100000</td>\n",
       "    </tr>\n",
       "  </tbody>\n",
       "</table>\n",
       "</div>"
      ],
      "text/plain": [
       "               age      duration      campaign         pdays      previous  \\\n",
       "count  41188.00000  41188.000000  41188.000000  41188.000000  41188.000000   \n",
       "mean      40.02406    258.285010      2.567593    962.475454      0.172963   \n",
       "std       10.42125    259.279249      2.770014    186.910907      0.494901   \n",
       "min       17.00000      0.000000      1.000000      0.000000      0.000000   \n",
       "25%       32.00000    102.000000      1.000000    999.000000      0.000000   \n",
       "50%       38.00000    180.000000      2.000000    999.000000      0.000000   \n",
       "75%       47.00000    319.000000      3.000000    999.000000      0.000000   \n",
       "max       98.00000   4918.000000     56.000000    999.000000      7.000000   \n",
       "\n",
       "       emp.var.rate  cons.price.idx  cons.conf.idx     euribor3m   nr.employed  \n",
       "count  41188.000000    41188.000000   41188.000000  41188.000000  41188.000000  \n",
       "mean       0.081886       93.575664     -40.502600      3.621291   5167.035911  \n",
       "std        1.570960        0.578840       4.628198      1.734447     72.251528  \n",
       "min       -3.400000       92.201000     -50.800000      0.634000   4963.600000  \n",
       "25%       -1.800000       93.075000     -42.700000      1.344000   5099.100000  \n",
       "50%        1.100000       93.749000     -41.800000      4.857000   5191.000000  \n",
       "75%        1.400000       93.994000     -36.400000      4.961000   5228.100000  \n",
       "max        1.400000       94.767000     -26.900000      5.045000   5228.100000  "
      ]
     },
     "execution_count": 47,
     "metadata": {},
     "output_type": "execute_result"
    }
   ],
   "source": [
    "data.describe()"
   ]
  },
  {
   "cell_type": "markdown",
   "metadata": {},
   "source": [
    "VISUALIZATION OF CATEGORICAL VALUES"
   ]
  },
  {
   "cell_type": "code",
   "execution_count": 48,
   "metadata": {},
   "outputs": [],
   "source": [
    "# BAR CHART TO SHOW THE RELATIONSHIP BETWEEN EACH CATEGORICAL VALUE AND NUMBER OF CLIENTS WITH BANK DEPOSITS\n",
    "def barChart(column):\n",
    "    tempData = pd.DataFrame()\n",
    "    tempData['No_deposit'] = data[data['y'] == 'no'][column].value_counts()\n",
    "    tempData['Yes_deposit'] = data[data['y'] == 'yes'][column].value_counts()\n",
    "    tempData.plot(kind='bar')\n",
    "    plt.xlabel(f'{column}')\n",
    "    plt.ylabel('Number of clients')\n",
    "    plt.title('Distribution of {} and deposit'.format(column))\n",
    "    plt.show\n",
    "    "
   ]
  },
  {
   "cell_type": "code",
   "execution_count": 49,
   "metadata": {},
   "outputs": [
    {
     "data": {
      "image/png": "[encoded data removed]",
      "text/plain": [
       "<Figure size 432x288 with 1 Axes>"
      ]
     },
     "metadata": {
      "needs_background": "light"
     },
     "output_type": "display_data"
    },
    {
     "data": {
      "image/png": "[encoded data removed]",
      "text/plain": [
       "<Figure size 432x288 with 1 Axes>"
      ]
     },
     "metadata": {
      "needs_background": "light"
     },
     "output_type": "display_data"
    },
    {
     "data": {
      "image/png": "[encoded data removed]",
      "text/plain": [
       "<Figure size 432x288 with 1 Axes>"
      ]
     },
     "metadata": {
      "needs_background": "light"
     },
     "output_type": "display_data"
    },
    {
     "data": {
      "image/png": "[encoded data removed]",
      "text/plain": [
       "<Figure size 432x288 with 1 Axes>"
      ]
     },
     "metadata": {
      "needs_background": "light"
     },
     "output_type": "display_data"
    },
    {
     "data": {
      "image/png": "[encoded data removed]",
      "text/plain": [
       "<Figure size 432x288 with 1 Axes>"
      ]
     },
     "metadata": {
      "needs_background": "light"
     },
     "output_type": "display_data"
    },
    {
     "data": {
      "image/png": "[encoded data removed]",
      "text/plain": [
       "<Figure size 432x288 with 1 Axes>"
      ]
     },
     "metadata": {
      "needs_background": "light"
     },
     "output_type": "display_data"
    },
    {
     "data": {
      "image/png": "[encoded data removed]",
      "text/plain": [
       "<Figure size 432x288 with 1 Axes>"
      ]
     },
     "metadata": {
      "needs_background": "light"
     },
     "output_type": "display_data"
    }
   ],
   "source": [
    "barChart('job')\n",
    "barChart('marital')\n",
    "barChart('education')\n",
    "barChart('default')\n",
    "barChart('contact') \n",
    "barChart('loan') \n",
    "barChart('housing')"
   ]
  },
  {
   "cell_type": "markdown",
   "metadata": {},
   "source": [
    "VIZUALIZATION OF NUMERIC VALUES"
   ]
  },
  {
   "cell_type": "code",
   "execution_count": 50,
   "metadata": {},
   "outputs": [
    {
     "data": {
      "text/html": [
       "<style type=\"text/css\">\n",
       "#T_7d372_row0_col0, #T_7d372_row1_col1, #T_7d372_row2_col2, #T_7d372_row3_col3, #T_7d372_row4_col4, #T_7d372_row5_col5, #T_7d372_row6_col6, #T_7d372_row7_col7, #T_7d372_row8_col8, #T_7d372_row9_col9, #T_7d372_row10_col10 {\n",
       "  background-color: #084081;\n",
       "  color: #f1f1f1;\n",
       "}\n",
       "#T_7d372_row0_col1, #T_7d372_row10_col0 {\n",
       "  background-color: #ebf7e5;\n",
       "  color: #000000;\n",
       "}\n",
       "#T_7d372_row0_col2, #T_7d372_row1_col7 {\n",
       "  background-color: #e9f7e3;\n",
       "  color: #000000;\n",
       "}\n",
       "#T_7d372_row0_col3 {\n",
       "  background-color: #afe0b8;\n",
       "  color: #000000;\n",
       "}\n",
       "#T_7d372_row0_col4, #T_7d372_row1_col4 {\n",
       "  background-color: #a5dcb6;\n",
       "  color: #000000;\n",
       "}\n",
       "#T_7d372_row0_col5 {\n",
       "  background-color: #bfe6bf;\n",
       "  color: #000000;\n",
       "}\n",
       "#T_7d372_row0_col6 {\n",
       "  background-color: #d9f0d3;\n",
       "  color: #000000;\n",
       "}\n",
       "#T_7d372_row0_col7 {\n",
       "  background-color: #d4eece;\n",
       "  color: #000000;\n",
       "}\n",
       "#T_7d372_row0_col8, #T_7d372_row2_col4 {\n",
       "  background-color: #b9e3bc;\n",
       "  color: #000000;\n",
       "}\n",
       "#T_7d372_row0_col9 {\n",
       "  background-color: #b7e3bc;\n",
       "  color: #000000;\n",
       "}\n",
       "#T_7d372_row0_col10 {\n",
       "  background-color: #c3e7c1;\n",
       "  color: #000000;\n",
       "}\n",
       "#T_7d372_row1_col0, #T_7d372_row5_col0, #T_7d372_row6_col0, #T_7d372_row8_col10 {\n",
       "  background-color: #f1faeb;\n",
       "  color: #000000;\n",
       "}\n",
       "#T_7d372_row1_col2 {\n",
       "  background-color: #f6fcef;\n",
       "  color: #000000;\n",
       "}\n",
       "#T_7d372_row1_col3 {\n",
       "  background-color: #b2e1b9;\n",
       "  color: #000000;\n",
       "}\n",
       "#T_7d372_row1_col5, #T_7d372_row2_col6 {\n",
       "  background-color: #c5e8c2;\n",
       "  color: #000000;\n",
       "}\n",
       "#T_7d372_row1_col6 {\n",
       "  background-color: #d8f0d3;\n",
       "  color: #000000;\n",
       "}\n",
       "#T_7d372_row1_col8 {\n",
       "  background-color: #c0e6c0;\n",
       "  color: #000000;\n",
       "}\n",
       "#T_7d372_row1_col9, #T_7d372_row7_col10 {\n",
       "  background-color: #bde5be;\n",
       "  color: #000000;\n",
       "}\n",
       "#T_7d372_row1_col10 {\n",
       "  background-color: #65c0cb;\n",
       "  color: #000000;\n",
       "}\n",
       "#T_7d372_row2_col0, #T_7d372_row4_col7, #T_7d372_row8_col1 {\n",
       "  background-color: #f1f9ea;\n",
       "  color: #000000;\n",
       "}\n",
       "#T_7d372_row2_col1, #T_7d372_row3_col0, #T_7d372_row3_col4, #T_7d372_row3_col7, #T_7d372_row4_col2, #T_7d372_row4_col3, #T_7d372_row4_col5, #T_7d372_row4_col6, #T_7d372_row4_col8, #T_7d372_row4_col9, #T_7d372_row9_col10 {\n",
       "  background-color: #f7fcf0;\n",
       "  color: #000000;\n",
       "}\n",
       "#T_7d372_row2_col3, #T_7d372_row2_col8 {\n",
       "  background-color: #9ed9b8;\n",
       "  color: #000000;\n",
       "}\n",
       "#T_7d372_row2_col5, #T_7d372_row7_col9 {\n",
       "  background-color: #9fdab8;\n",
       "  color: #000000;\n",
       "}\n",
       "#T_7d372_row2_col7, #T_7d372_row6_col1 {\n",
       "  background-color: #eaf7e4;\n",
       "  color: #000000;\n",
       "}\n",
       "#T_7d372_row2_col9, #T_7d372_row4_col10 {\n",
       "  background-color: #94d5bc;\n",
       "  color: #000000;\n",
       "}\n",
       "#T_7d372_row2_col10, #T_7d372_row5_col2 {\n",
       "  background-color: #d2edcc;\n",
       "  color: #000000;\n",
       "}\n",
       "#T_7d372_row3_col1, #T_7d372_row3_col10 {\n",
       "  background-color: #f3fbed;\n",
       "  color: #000000;\n",
       "}\n",
       "#T_7d372_row3_col2 {\n",
       "  background-color: #e1f3dc;\n",
       "  color: #000000;\n",
       "}\n",
       "#T_7d372_row3_col5 {\n",
       "  background-color: #80cec2;\n",
       "  color: #000000;\n",
       "}\n",
       "#T_7d372_row3_col6 {\n",
       "  background-color: #ceecc8;\n",
       "  color: #000000;\n",
       "}\n",
       "#T_7d372_row3_col8 {\n",
       "  background-color: #75c8c6;\n",
       "  color: #000000;\n",
       "}\n",
       "#T_7d372_row3_col9 {\n",
       "  background-color: #5dbbce;\n",
       "  color: #000000;\n",
       "}\n",
       "#T_7d372_row4_col0, #T_7d372_row10_col6 {\n",
       "  background-color: #edf8e7;\n",
       "  color: #000000;\n",
       "}\n",
       "#T_7d372_row4_col1, #T_7d372_row10_col5 {\n",
       "  background-color: #e7f6e2;\n",
       "  color: #000000;\n",
       "}\n",
       "#T_7d372_row5_col1, #T_7d372_row5_col10 {\n",
       "  background-color: #f0f9e9;\n",
       "  color: #000000;\n",
       "}\n",
       "#T_7d372_row5_col3 {\n",
       "  background-color: #6cc4c9;\n",
       "  color: #000000;\n",
       "}\n",
       "#T_7d372_row5_col4 {\n",
       "  background-color: #e4f5df;\n",
       "  color: #000000;\n",
       "}\n",
       "#T_7d372_row5_col6 {\n",
       "  background-color: #1979b5;\n",
       "  color: #f1f1f1;\n",
       "}\n",
       "#T_7d372_row5_col7 {\n",
       "  background-color: #c8eac3;\n",
       "  color: #000000;\n",
       "}\n",
       "#T_7d372_row5_col8 {\n",
       "  background-color: #084586;\n",
       "  color: #f1f1f1;\n",
       "}\n",
       "#T_7d372_row5_col9 {\n",
       "  background-color: #085395;\n",
       "  color: #f1f1f1;\n",
       "}\n",
       "#T_7d372_row6_col2 {\n",
       "  background-color: #d5efcf;\n",
       "  color: #000000;\n",
       "}\n",
       "#T_7d372_row6_col3 {\n",
       "  background-color: #98d7ba;\n",
       "  color: #000000;\n",
       "}\n",
       "#T_7d372_row6_col4 {\n",
       "  background-color: #ceecc7;\n",
       "  color: #000000;\n",
       "}\n",
       "#T_7d372_row6_col5 {\n",
       "  background-color: #1171b1;\n",
       "  color: #f1f1f1;\n",
       "}\n",
       "#T_7d372_row6_col7 {\n",
       "  background-color: #def2d9;\n",
       "  color: #000000;\n",
       "}\n",
       "#T_7d372_row6_col8 {\n",
       "  background-color: #2081b8;\n",
       "  color: #f1f1f1;\n",
       "}\n",
       "#T_7d372_row6_col9 {\n",
       "  background-color: #3ea1c9;\n",
       "  color: #f1f1f1;\n",
       "}\n",
       "#T_7d372_row6_col10 {\n",
       "  background-color: #daf1d5;\n",
       "  color: #000000;\n",
       "}\n",
       "#T_7d372_row7_col0 {\n",
       "  background-color: #dbf1d5;\n",
       "  color: #000000;\n",
       "}\n",
       "#T_7d372_row7_col1, #T_7d372_row7_col2 {\n",
       "  background-color: #ecf8e6;\n",
       "  color: #000000;\n",
       "}\n",
       "#T_7d372_row7_col3 {\n",
       "  background-color: #bae4bd;\n",
       "  color: #000000;\n",
       "}\n",
       "#T_7d372_row7_col4, #T_7d372_row8_col7 {\n",
       "  background-color: #b3e1ba;\n",
       "  color: #000000;\n",
       "}\n",
       "#T_7d372_row7_col5 {\n",
       "  background-color: #92d5bc;\n",
       "  color: #000000;\n",
       "}\n",
       "#T_7d372_row7_col6 {\n",
       "  background-color: #d1edcb;\n",
       "  color: #000000;\n",
       "}\n",
       "#T_7d372_row7_col8 {\n",
       "  background-color: #7accc4;\n",
       "  color: #000000;\n",
       "}\n",
       "#T_7d372_row8_col0 {\n",
       "  background-color: #eff9e9;\n",
       "  color: #000000;\n",
       "}\n",
       "#T_7d372_row8_col2 {\n",
       "  background-color: #d5eece;\n",
       "  color: #000000;\n",
       "}\n",
       "#T_7d372_row8_col3 {\n",
       "  background-color: #67c1cb;\n",
       "  color: #000000;\n",
       "}\n",
       "#T_7d372_row8_col4 {\n",
       "  background-color: #e8f6e2;\n",
       "  color: #000000;\n",
       "}\n",
       "#T_7d372_row8_col5 {\n",
       "  background-color: #084688;\n",
       "  color: #f1f1f1;\n",
       "}\n",
       "#T_7d372_row8_col6 {\n",
       "  background-color: #2d8fbf;\n",
       "  color: #f1f1f1;\n",
       "}\n",
       "#T_7d372_row8_col9, #T_7d372_row9_col8 {\n",
       "  background-color: #084b8d;\n",
       "  color: #f1f1f1;\n",
       "}\n",
       "#T_7d372_row9_col0 {\n",
       "  background-color: #f4fbed;\n",
       "  color: #000000;\n",
       "}\n",
       "#T_7d372_row9_col1 {\n",
       "  background-color: #f3faec;\n",
       "  color: #000000;\n",
       "}\n",
       "#T_7d372_row9_col2 {\n",
       "  background-color: #d3eecd;\n",
       "  color: #000000;\n",
       "}\n",
       "#T_7d372_row9_col3, #T_7d372_row9_col6 {\n",
       "  background-color: #56b7d0;\n",
       "  color: #f1f1f1;\n",
       "}\n",
       "#T_7d372_row9_col4 {\n",
       "  background-color: #eef8e7;\n",
       "  color: #000000;\n",
       "}\n",
       "#T_7d372_row9_col5 {\n",
       "  background-color: #085497;\n",
       "  color: #f1f1f1;\n",
       "}\n",
       "#T_7d372_row9_col7 {\n",
       "  background-color: #d8f0d2;\n",
       "  color: #000000;\n",
       "}\n",
       "#T_7d372_row10_col1 {\n",
       "  background-color: #8fd4bd;\n",
       "  color: #000000;\n",
       "}\n",
       "#T_7d372_row10_col2 {\n",
       "  background-color: #f5fbee;\n",
       "  color: #000000;\n",
       "}\n",
       "#T_7d372_row10_col3 {\n",
       "  background-color: #daf0d4;\n",
       "  color: #000000;\n",
       "}\n",
       "#T_7d372_row10_col4 {\n",
       "  background-color: #76c9c6;\n",
       "  color: #000000;\n",
       "}\n",
       "#T_7d372_row10_col7 {\n",
       "  background-color: #dff2da;\n",
       "  color: #000000;\n",
       "}\n",
       "#T_7d372_row10_col8, #T_7d372_row10_col9 {\n",
       "  background-color: #e5f5e0;\n",
       "  color: #000000;\n",
       "}\n",
       "</style>\n",
       "<table id=\"T_7d372_\">\n",
       "  <thead>\n",
       "    <tr>\n",
       "      <th class=\"blank level0\" >&nbsp;</th>\n",
       "      <th class=\"col_heading level0 col0\" >age</th>\n",
       "      <th class=\"col_heading level0 col1\" >duration</th>\n",
       "      <th class=\"col_heading level0 col2\" >campaign</th>\n",
       "      <th class=\"col_heading level0 col3\" >pdays</th>\n",
       "      <th class=\"col_heading level0 col4\" >previous</th>\n",
       "      <th class=\"col_heading level0 col5\" >emp.var.rate</th>\n",
       "      <th class=\"col_heading level0 col6\" >cons.price.idx</th>\n",
       "      <th class=\"col_heading level0 col7\" >cons.conf.idx</th>\n",
       "      <th class=\"col_heading level0 col8\" >euribor3m</th>\n",
       "      <th class=\"col_heading level0 col9\" >nr.employed</th>\n",
       "      <th class=\"col_heading level0 col10\" >y</th>\n",
       "    </tr>\n",
       "  </thead>\n",
       "  <tbody>\n",
       "    <tr>\n",
       "      <th id=\"T_7d372_level0_row0\" class=\"row_heading level0 row0\" >age</th>\n",
       "      <td id=\"T_7d372_row0_col0\" class=\"data row0 col0\" >1.000000</td>\n",
       "      <td id=\"T_7d372_row0_col1\" class=\"data row0 col1\" >-0.000866</td>\n",
       "      <td id=\"T_7d372_row0_col2\" class=\"data row0 col2\" >0.004594</td>\n",
       "      <td id=\"T_7d372_row0_col3\" class=\"data row0 col3\" >-0.034369</td>\n",
       "      <td id=\"T_7d372_row0_col4\" class=\"data row0 col4\" >0.024365</td>\n",
       "      <td id=\"T_7d372_row0_col5\" class=\"data row0 col5\" >-0.000371</td>\n",
       "      <td id=\"T_7d372_row0_col6\" class=\"data row0 col6\" >0.000857</td>\n",
       "      <td id=\"T_7d372_row0_col7\" class=\"data row0 col7\" >0.129372</td>\n",
       "      <td id=\"T_7d372_row0_col8\" class=\"data row0 col8\" >0.010767</td>\n",
       "      <td id=\"T_7d372_row0_col9\" class=\"data row0 col9\" >-0.017725</td>\n",
       "      <td id=\"T_7d372_row0_col10\" class=\"data row0 col10\" >0.030399</td>\n",
       "    </tr>\n",
       "    <tr>\n",
       "      <th id=\"T_7d372_level0_row1\" class=\"row_heading level0 row1\" >duration</th>\n",
       "      <td id=\"T_7d372_row1_col0\" class=\"data row1 col0\" >-0.000866</td>\n",
       "      <td id=\"T_7d372_row1_col1\" class=\"data row1 col1\" >1.000000</td>\n",
       "      <td id=\"T_7d372_row1_col2\" class=\"data row1 col2\" >-0.071699</td>\n",
       "      <td id=\"T_7d372_row1_col3\" class=\"data row1 col3\" >-0.047577</td>\n",
       "      <td id=\"T_7d372_row1_col4\" class=\"data row1 col4\" >0.020640</td>\n",
       "      <td id=\"T_7d372_row1_col5\" class=\"data row1 col5\" >-0.027968</td>\n",
       "      <td id=\"T_7d372_row1_col6\" class=\"data row1 col6\" >0.005312</td>\n",
       "      <td id=\"T_7d372_row1_col7\" class=\"data row1 col7\" >-0.008173</td>\n",
       "      <td id=\"T_7d372_row1_col8\" class=\"data row1 col8\" >-0.032897</td>\n",
       "      <td id=\"T_7d372_row1_col9\" class=\"data row1 col9\" >-0.044703</td>\n",
       "      <td id=\"T_7d372_row1_col10\" class=\"data row1 col10\" >0.405274</td>\n",
       "    </tr>\n",
       "    <tr>\n",
       "      <th id=\"T_7d372_level0_row2\" class=\"row_heading level0 row2\" >campaign</th>\n",
       "      <td id=\"T_7d372_row2_col0\" class=\"data row2 col0\" >0.004594</td>\n",
       "      <td id=\"T_7d372_row2_col1\" class=\"data row2 col1\" >-0.071699</td>\n",
       "      <td id=\"T_7d372_row2_col2\" class=\"data row2 col2\" >1.000000</td>\n",
       "      <td id=\"T_7d372_row2_col3\" class=\"data row2 col3\" >0.052584</td>\n",
       "      <td id=\"T_7d372_row2_col4\" class=\"data row2 col4\" >-0.079141</td>\n",
       "      <td id=\"T_7d372_row2_col5\" class=\"data row2 col5\" >0.150754</td>\n",
       "      <td id=\"T_7d372_row2_col6\" class=\"data row2 col6\" >0.127836</td>\n",
       "      <td id=\"T_7d372_row2_col7\" class=\"data row2 col7\" >-0.013733</td>\n",
       "      <td id=\"T_7d372_row2_col8\" class=\"data row2 col8\" >0.135133</td>\n",
       "      <td id=\"T_7d372_row2_col9\" class=\"data row2 col9\" >0.144095</td>\n",
       "      <td id=\"T_7d372_row2_col10\" class=\"data row2 col10\" >-0.066357</td>\n",
       "    </tr>\n",
       "    <tr>\n",
       "      <th id=\"T_7d372_level0_row3\" class=\"row_heading level0 row3\" >pdays</th>\n",
       "      <td id=\"T_7d372_row3_col0\" class=\"data row3 col0\" >-0.034369</td>\n",
       "      <td id=\"T_7d372_row3_col1\" class=\"data row3 col1\" >-0.047577</td>\n",
       "      <td id=\"T_7d372_row3_col2\" class=\"data row3 col2\" >0.052584</td>\n",
       "      <td id=\"T_7d372_row3_col3\" class=\"data row3 col3\" >1.000000</td>\n",
       "      <td id=\"T_7d372_row3_col4\" class=\"data row3 col4\" >-0.587514</td>\n",
       "      <td id=\"T_7d372_row3_col5\" class=\"data row3 col5\" >0.271004</td>\n",
       "      <td id=\"T_7d372_row3_col6\" class=\"data row3 col6\" >0.078889</td>\n",
       "      <td id=\"T_7d372_row3_col7\" class=\"data row3 col7\" >-0.091342</td>\n",
       "      <td id=\"T_7d372_row3_col8\" class=\"data row3 col8\" >0.296899</td>\n",
       "      <td id=\"T_7d372_row3_col9\" class=\"data row3 col9\" >0.372605</td>\n",
       "      <td id=\"T_7d372_row3_col10\" class=\"data row3 col10\" >-0.324914</td>\n",
       "    </tr>\n",
       "    <tr>\n",
       "      <th id=\"T_7d372_level0_row4\" class=\"row_heading level0 row4\" >previous</th>\n",
       "      <td id=\"T_7d372_row4_col0\" class=\"data row4 col0\" >0.024365</td>\n",
       "      <td id=\"T_7d372_row4_col1\" class=\"data row4 col1\" >0.020640</td>\n",
       "      <td id=\"T_7d372_row4_col2\" class=\"data row4 col2\" >-0.079141</td>\n",
       "      <td id=\"T_7d372_row4_col3\" class=\"data row4 col3\" >-0.587514</td>\n",
       "      <td id=\"T_7d372_row4_col4\" class=\"data row4 col4\" >1.000000</td>\n",
       "      <td id=\"T_7d372_row4_col5\" class=\"data row4 col5\" >-0.420489</td>\n",
       "      <td id=\"T_7d372_row4_col6\" class=\"data row4 col6\" >-0.203130</td>\n",
       "      <td id=\"T_7d372_row4_col7\" class=\"data row4 col7\" >-0.050936</td>\n",
       "      <td id=\"T_7d372_row4_col8\" class=\"data row4 col8\" >-0.454494</td>\n",
       "      <td id=\"T_7d372_row4_col9\" class=\"data row4 col9\" >-0.501333</td>\n",
       "      <td id=\"T_7d372_row4_col10\" class=\"data row4 col10\" >0.230181</td>\n",
       "    </tr>\n",
       "    <tr>\n",
       "      <th id=\"T_7d372_level0_row5\" class=\"row_heading level0 row5\" >emp.var.rate</th>\n",
       "      <td id=\"T_7d372_row5_col0\" class=\"data row5 col0\" >-0.000371</td>\n",
       "      <td id=\"T_7d372_row5_col1\" class=\"data row5 col1\" >-0.027968</td>\n",
       "      <td id=\"T_7d372_row5_col2\" class=\"data row5 col2\" >0.150754</td>\n",
       "      <td id=\"T_7d372_row5_col3\" class=\"data row5 col3\" >0.271004</td>\n",
       "      <td id=\"T_7d372_row5_col4\" class=\"data row5 col4\" >-0.420489</td>\n",
       "      <td id=\"T_7d372_row5_col5\" class=\"data row5 col5\" >1.000000</td>\n",
       "      <td id=\"T_7d372_row5_col6\" class=\"data row5 col6\" >0.775334</td>\n",
       "      <td id=\"T_7d372_row5_col7\" class=\"data row5 col7\" >0.196041</td>\n",
       "      <td id=\"T_7d372_row5_col8\" class=\"data row5 col8\" >0.972245</td>\n",
       "      <td id=\"T_7d372_row5_col9\" class=\"data row5 col9\" >0.906970</td>\n",
       "      <td id=\"T_7d372_row5_col10\" class=\"data row5 col10\" >-0.298334</td>\n",
       "    </tr>\n",
       "    <tr>\n",
       "      <th id=\"T_7d372_level0_row6\" class=\"row_heading level0 row6\" >cons.price.idx</th>\n",
       "      <td id=\"T_7d372_row6_col0\" class=\"data row6 col0\" >0.000857</td>\n",
       "      <td id=\"T_7d372_row6_col1\" class=\"data row6 col1\" >0.005312</td>\n",
       "      <td id=\"T_7d372_row6_col2\" class=\"data row6 col2\" >0.127836</td>\n",
       "      <td id=\"T_7d372_row6_col3\" class=\"data row6 col3\" >0.078889</td>\n",
       "      <td id=\"T_7d372_row6_col4\" class=\"data row6 col4\" >-0.203130</td>\n",
       "      <td id=\"T_7d372_row6_col5\" class=\"data row6 col5\" >0.775334</td>\n",
       "      <td id=\"T_7d372_row6_col6\" class=\"data row6 col6\" >1.000000</td>\n",
       "      <td id=\"T_7d372_row6_col7\" class=\"data row6 col7\" >0.058986</td>\n",
       "      <td id=\"T_7d372_row6_col8\" class=\"data row6 col8\" >0.688230</td>\n",
       "      <td id=\"T_7d372_row6_col9\" class=\"data row6 col9\" >0.522034</td>\n",
       "      <td id=\"T_7d372_row6_col10\" class=\"data row6 col10\" >-0.136211</td>\n",
       "    </tr>\n",
       "    <tr>\n",
       "      <th id=\"T_7d372_level0_row7\" class=\"row_heading level0 row7\" >cons.conf.idx</th>\n",
       "      <td id=\"T_7d372_row7_col0\" class=\"data row7 col0\" >0.129372</td>\n",
       "      <td id=\"T_7d372_row7_col1\" class=\"data row7 col1\" >-0.008173</td>\n",
       "      <td id=\"T_7d372_row7_col2\" class=\"data row7 col2\" >-0.013733</td>\n",
       "      <td id=\"T_7d372_row7_col3\" class=\"data row7 col3\" >-0.091342</td>\n",
       "      <td id=\"T_7d372_row7_col4\" class=\"data row7 col4\" >-0.050936</td>\n",
       "      <td id=\"T_7d372_row7_col5\" class=\"data row7 col5\" >0.196041</td>\n",
       "      <td id=\"T_7d372_row7_col6\" class=\"data row7 col6\" >0.058986</td>\n",
       "      <td id=\"T_7d372_row7_col7\" class=\"data row7 col7\" >1.000000</td>\n",
       "      <td id=\"T_7d372_row7_col8\" class=\"data row7 col8\" >0.277686</td>\n",
       "      <td id=\"T_7d372_row7_col9\" class=\"data row7 col9\" >0.100513</td>\n",
       "      <td id=\"T_7d372_row7_col10\" class=\"data row7 col10\" >0.054878</td>\n",
       "    </tr>\n",
       "    <tr>\n",
       "      <th id=\"T_7d372_level0_row8\" class=\"row_heading level0 row8\" >euribor3m</th>\n",
       "      <td id=\"T_7d372_row8_col0\" class=\"data row8 col0\" >0.010767</td>\n",
       "      <td id=\"T_7d372_row8_col1\" class=\"data row8 col1\" >-0.032897</td>\n",
       "      <td id=\"T_7d372_row8_col2\" class=\"data row8 col2\" >0.135133</td>\n",
       "      <td id=\"T_7d372_row8_col3\" class=\"data row8 col3\" >0.296899</td>\n",
       "      <td id=\"T_7d372_row8_col4\" class=\"data row8 col4\" >-0.454494</td>\n",
       "      <td id=\"T_7d372_row8_col5\" class=\"data row8 col5\" >0.972245</td>\n",
       "      <td id=\"T_7d372_row8_col6\" class=\"data row8 col6\" >0.688230</td>\n",
       "      <td id=\"T_7d372_row8_col7\" class=\"data row8 col7\" >0.277686</td>\n",
       "      <td id=\"T_7d372_row8_col8\" class=\"data row8 col8\" >1.000000</td>\n",
       "      <td id=\"T_7d372_row8_col9\" class=\"data row8 col9\" >0.945154</td>\n",
       "      <td id=\"T_7d372_row8_col10\" class=\"data row8 col10\" >-0.307771</td>\n",
       "    </tr>\n",
       "    <tr>\n",
       "      <th id=\"T_7d372_level0_row9\" class=\"row_heading level0 row9\" >nr.employed</th>\n",
       "      <td id=\"T_7d372_row9_col0\" class=\"data row9 col0\" >-0.017725</td>\n",
       "      <td id=\"T_7d372_row9_col1\" class=\"data row9 col1\" >-0.044703</td>\n",
       "      <td id=\"T_7d372_row9_col2\" class=\"data row9 col2\" >0.144095</td>\n",
       "      <td id=\"T_7d372_row9_col3\" class=\"data row9 col3\" >0.372605</td>\n",
       "      <td id=\"T_7d372_row9_col4\" class=\"data row9 col4\" >-0.501333</td>\n",
       "      <td id=\"T_7d372_row9_col5\" class=\"data row9 col5\" >0.906970</td>\n",
       "      <td id=\"T_7d372_row9_col6\" class=\"data row9 col6\" >0.522034</td>\n",
       "      <td id=\"T_7d372_row9_col7\" class=\"data row9 col7\" >0.100513</td>\n",
       "      <td id=\"T_7d372_row9_col8\" class=\"data row9 col8\" >0.945154</td>\n",
       "      <td id=\"T_7d372_row9_col9\" class=\"data row9 col9\" >1.000000</td>\n",
       "      <td id=\"T_7d372_row9_col10\" class=\"data row9 col10\" >-0.354678</td>\n",
       "    </tr>\n",
       "    <tr>\n",
       "      <th id=\"T_7d372_level0_row10\" class=\"row_heading level0 row10\" >y</th>\n",
       "      <td id=\"T_7d372_row10_col0\" class=\"data row10 col0\" >0.030399</td>\n",
       "      <td id=\"T_7d372_row10_col1\" class=\"data row10 col1\" >0.405274</td>\n",
       "      <td id=\"T_7d372_row10_col2\" class=\"data row10 col2\" >-0.066357</td>\n",
       "      <td id=\"T_7d372_row10_col3\" class=\"data row10 col3\" >-0.324914</td>\n",
       "      <td id=\"T_7d372_row10_col4\" class=\"data row10 col4\" >0.230181</td>\n",
       "      <td id=\"T_7d372_row10_col5\" class=\"data row10 col5\" >-0.298334</td>\n",
       "      <td id=\"T_7d372_row10_col6\" class=\"data row10 col6\" >-0.136211</td>\n",
       "      <td id=\"T_7d372_row10_col7\" class=\"data row10 col7\" >0.054878</td>\n",
       "      <td id=\"T_7d372_row10_col8\" class=\"data row10 col8\" >-0.307771</td>\n",
       "      <td id=\"T_7d372_row10_col9\" class=\"data row10 col9\" >-0.354678</td>\n",
       "      <td id=\"T_7d372_row10_col10\" class=\"data row10 col10\" >1.000000</td>\n",
       "    </tr>\n",
       "  </tbody>\n",
       "</table>\n"
      ],
      "text/plain": [
       "<pandas.io.formats.style.Styler at 0x1f30e861460>"
      ]
     },
     "execution_count": 50,
     "metadata": {},
     "output_type": "execute_result"
    }
   ],
   "source": [
    "# CORRELATION COEFFICIENT BETWEEN NUMERIC VALUES \n",
    "data.y = data.y.map({'no':0, 'yes':1}).astype('uint8')\n",
    "corr = data.corr()\n",
    "corr.style.background_gradient(cmap='GnBu')"
   ]
  },
  {
   "cell_type": "code",
   "execution_count": 51,
   "metadata": {},
   "outputs": [],
   "source": [
    "# BOX PLOT DIAGRAM FOR NUMERIC VALUES\n",
    "def boxPlot(column):\n",
    " plt.boxplot(column, vert = False)\n",
    " plt.show"
   ]
  },
  {
   "cell_type": "code",
   "execution_count": 52,
   "metadata": {},
   "outputs": [
    {
     "data": {
      "image/png": "[encoded data removed]",
      "text/plain": [
       "<Figure size 432x288 with 1 Axes>"
      ]
     },
     "metadata": {
      "needs_background": "light"
     },
     "output_type": "display_data"
    }
   ],
   "source": [
    "#BOX PLOT DIAGRAM BEFORE TREATING OUTLIERS\n",
    "boxPlot(data.age)"
   ]
  },
  {
   "cell_type": "code",
   "execution_count": 53,
   "metadata": {},
   "outputs": [
    {
     "name": "stdout",
     "output_type": "stream",
     "text": [
      "Outliers are values less than 9.5 and greater than 69 \n"
     ]
    },
    {
     "data": {
      "text/html": [
       "<div>\n",
       "<style scoped>\n",
       "    .dataframe tbody tr th:only-of-type {\n",
       "        vertical-align: middle;\n",
       "    }\n",
       "\n",
       "    .dataframe tbody tr th {\n",
       "        vertical-align: top;\n",
       "    }\n",
       "\n",
       "    .dataframe thead th {\n",
       "        text-align: right;\n",
       "    }\n",
       "</style>\n",
       "<table border=\"1\" class=\"dataframe\">\n",
       "  <thead>\n",
       "    <tr style=\"text-align: right;\">\n",
       "      <th></th>\n",
       "      <th>age</th>\n",
       "    </tr>\n",
       "  </thead>\n",
       "  <tbody>\n",
       "    <tr>\n",
       "      <th>0</th>\n",
       "      <td>17</td>\n",
       "    </tr>\n",
       "    <tr>\n",
       "      <th>1</th>\n",
       "      <td>17</td>\n",
       "    </tr>\n",
       "    <tr>\n",
       "      <th>2</th>\n",
       "      <td>17</td>\n",
       "    </tr>\n",
       "    <tr>\n",
       "      <th>3</th>\n",
       "      <td>17</td>\n",
       "    </tr>\n",
       "    <tr>\n",
       "      <th>4</th>\n",
       "      <td>17</td>\n",
       "    </tr>\n",
       "    <tr>\n",
       "      <th>...</th>\n",
       "      <td>...</td>\n",
       "    </tr>\n",
       "    <tr>\n",
       "      <th>41183</th>\n",
       "      <td>38</td>\n",
       "    </tr>\n",
       "    <tr>\n",
       "      <th>41184</th>\n",
       "      <td>38</td>\n",
       "    </tr>\n",
       "    <tr>\n",
       "      <th>41185</th>\n",
       "      <td>38</td>\n",
       "    </tr>\n",
       "    <tr>\n",
       "      <th>41186</th>\n",
       "      <td>38</td>\n",
       "    </tr>\n",
       "    <tr>\n",
       "      <th>41187</th>\n",
       "      <td>38</td>\n",
       "    </tr>\n",
       "  </tbody>\n",
       "</table>\n",
       "<p>41188 rows × 1 columns</p>\n",
       "</div>"
      ],
      "text/plain": [
       "       age\n",
       "0       17\n",
       "1       17\n",
       "2       17\n",
       "3       17\n",
       "4       17\n",
       "...    ...\n",
       "41183   38\n",
       "41184   38\n",
       "41185   38\n",
       "41186   38\n",
       "41187   38\n",
       "\n",
       "[41188 rows x 1 columns]"
      ]
     },
     "execution_count": 53,
     "metadata": {},
     "output_type": "execute_result"
    }
   ],
   "source": [
    "# IDENTIFYING AND REPLACING OUTLIERS WITH THE MEDIAN\n",
    "firstqrtl = np.percentile(data.age, 25)\n",
    "thirdqrtl = np.percentile(data.age, 75)\n",
    "intrqrtlrng = thirdqrtl-firstqrtl\n",
    "lower_bound = firstqrtl-(1.5*intrqrtlrng)\n",
    "upper_bound = thirdqrtl+(1.5*intrqrtlrng)\n",
    "data.age = sorted(data.age)\n",
    "median = np.median(data.age)\n",
    "for j, i in enumerate(data.age):\n",
    "    if (i < lower_bound or i > upper_bound):\n",
    "        data.age[j] = median\n",
    "print(\"Outliers are values less than %s and greater than %d \" %(lower_bound, upper_bound))\n",
    "pd.DataFrame(data.age)"
   ]
  },
  {
   "cell_type": "code",
   "execution_count": 54,
   "metadata": {},
   "outputs": [
    {
     "data": {
      "image/png": "[encoded data removed]",
      "text/plain": [
       "<Figure size 432x288 with 1 Axes>"
      ]
     },
     "metadata": {
      "needs_background": "light"
     },
     "output_type": "display_data"
    }
   ],
   "source": [
    "# BOX PLOT DIAGRAM AFTER TREATING OUTLIERS\n",
    "boxPlot(data.age)"
   ]
  },
  {
   "cell_type": "code",
   "execution_count": 55,
   "metadata": {},
   "outputs": [
    {
     "data": {
      "image/png": "[encoded data removed]",
      "text/plain": [
       "<Figure size 432x288 with 1 Axes>"
      ]
     },
     "metadata": {
      "needs_background": "light"
     },
     "output_type": "display_data"
    }
   ],
   "source": [
    "#BOX PLOT DIAGRAM BEFORE TREATING OUTLIERS\n",
    "boxPlot(data.duration)"
   ]
  },
  {
   "cell_type": "code",
   "execution_count": 56,
   "metadata": {},
   "outputs": [
    {
     "name": "stdout",
     "output_type": "stream",
     "text": [
      "Outliers are values less than -223.5 and greater than 644 \n"
     ]
    },
    {
     "data": {
      "text/html": [
       "<div>\n",
       "<style scoped>\n",
       "    .dataframe tbody tr th:only-of-type {\n",
       "        vertical-align: middle;\n",
       "    }\n",
       "\n",
       "    .dataframe tbody tr th {\n",
       "        vertical-align: top;\n",
       "    }\n",
       "\n",
       "    .dataframe thead th {\n",
       "        text-align: right;\n",
       "    }\n",
       "</style>\n",
       "<table border=\"1\" class=\"dataframe\">\n",
       "  <thead>\n",
       "    <tr style=\"text-align: right;\">\n",
       "      <th></th>\n",
       "      <th>duration</th>\n",
       "    </tr>\n",
       "  </thead>\n",
       "  <tbody>\n",
       "    <tr>\n",
       "      <th>0</th>\n",
       "      <td>0</td>\n",
       "    </tr>\n",
       "    <tr>\n",
       "      <th>1</th>\n",
       "      <td>0</td>\n",
       "    </tr>\n",
       "    <tr>\n",
       "      <th>2</th>\n",
       "      <td>0</td>\n",
       "    </tr>\n",
       "    <tr>\n",
       "      <th>3</th>\n",
       "      <td>0</td>\n",
       "    </tr>\n",
       "    <tr>\n",
       "      <th>4</th>\n",
       "      <td>1</td>\n",
       "    </tr>\n",
       "    <tr>\n",
       "      <th>...</th>\n",
       "      <td>...</td>\n",
       "    </tr>\n",
       "    <tr>\n",
       "      <th>41183</th>\n",
       "      <td>180</td>\n",
       "    </tr>\n",
       "    <tr>\n",
       "      <th>41184</th>\n",
       "      <td>180</td>\n",
       "    </tr>\n",
       "    <tr>\n",
       "      <th>41185</th>\n",
       "      <td>180</td>\n",
       "    </tr>\n",
       "    <tr>\n",
       "      <th>41186</th>\n",
       "      <td>180</td>\n",
       "    </tr>\n",
       "    <tr>\n",
       "      <th>41187</th>\n",
       "      <td>180</td>\n",
       "    </tr>\n",
       "  </tbody>\n",
       "</table>\n",
       "<p>41188 rows × 1 columns</p>\n",
       "</div>"
      ],
      "text/plain": [
       "       duration\n",
       "0             0\n",
       "1             0\n",
       "2             0\n",
       "3             0\n",
       "4             1\n",
       "...         ...\n",
       "41183       180\n",
       "41184       180\n",
       "41185       180\n",
       "41186       180\n",
       "41187       180\n",
       "\n",
       "[41188 rows x 1 columns]"
      ]
     },
     "execution_count": 56,
     "metadata": {},
     "output_type": "execute_result"
    }
   ],
   "source": [
    "# IDENTIFYING AND REPLACING OUTLIERS WITH THE MEDIAN\n",
    "firstqrtl = np.percentile(data.duration, 25)\n",
    "thirdqrtl = np.percentile(data.duration, 75)\n",
    "intrqrtlrng = thirdqrtl-firstqrtl\n",
    "lower_bound = firstqrtl-(1.5*intrqrtlrng)\n",
    "upper_bound = thirdqrtl+(1.5*intrqrtlrng)\n",
    "data.duration = sorted(data.duration)\n",
    "median = np.median(data.duration)\n",
    "for j, i in enumerate(data.duration):\n",
    "    if (i < lower_bound or i > upper_bound):\n",
    "        data.duration[j] = median\n",
    "print(\"Outliers are values less than %s and greater than %d \" %(lower_bound, upper_bound))\n",
    "pd.DataFrame(data.duration)"
   ]
  },
  {
   "cell_type": "code",
   "execution_count": 57,
   "metadata": {},
   "outputs": [
    {
     "data": {
      "image/png": "[encoded data removed]",
      "text/plain": [
       "<Figure size 432x288 with 1 Axes>"
      ]
     },
     "metadata": {
      "needs_background": "light"
     },
     "output_type": "display_data"
    }
   ],
   "source": [
    "# BOX PLOT DIAGRAM AFTER TREATING OUTLIERS\n",
    "boxPlot(data.duration)"
   ]
  },
  {
   "cell_type": "code",
   "execution_count": 58,
   "metadata": {},
   "outputs": [
    {
     "data": {
      "image/png": "[encoded data removed]",
      "text/plain": [
       "<Figure size 432x288 with 1 Axes>"
      ]
     },
     "metadata": {
      "needs_background": "light"
     },
     "output_type": "display_data"
    }
   ],
   "source": [
    "#BOX PLOT DIAGRAM BEFORE TREATING OUTLIERS\n",
    "boxPlot(data.campaign)"
   ]
  },
  {
   "cell_type": "code",
   "execution_count": 59,
   "metadata": {},
   "outputs": [
    {
     "name": "stdout",
     "output_type": "stream",
     "text": [
      "Outliers are values less than -2.0 and greater than 6 \n"
     ]
    },
    {
     "data": {
      "text/html": [
       "<div>\n",
       "<style scoped>\n",
       "    .dataframe tbody tr th:only-of-type {\n",
       "        vertical-align: middle;\n",
       "    }\n",
       "\n",
       "    .dataframe tbody tr th {\n",
       "        vertical-align: top;\n",
       "    }\n",
       "\n",
       "    .dataframe thead th {\n",
       "        text-align: right;\n",
       "    }\n",
       "</style>\n",
       "<table border=\"1\" class=\"dataframe\">\n",
       "  <thead>\n",
       "    <tr style=\"text-align: right;\">\n",
       "      <th></th>\n",
       "      <th>campaign</th>\n",
       "    </tr>\n",
       "  </thead>\n",
       "  <tbody>\n",
       "    <tr>\n",
       "      <th>0</th>\n",
       "      <td>1</td>\n",
       "    </tr>\n",
       "    <tr>\n",
       "      <th>1</th>\n",
       "      <td>1</td>\n",
       "    </tr>\n",
       "    <tr>\n",
       "      <th>2</th>\n",
       "      <td>1</td>\n",
       "    </tr>\n",
       "    <tr>\n",
       "      <th>3</th>\n",
       "      <td>1</td>\n",
       "    </tr>\n",
       "    <tr>\n",
       "      <th>4</th>\n",
       "      <td>1</td>\n",
       "    </tr>\n",
       "    <tr>\n",
       "      <th>...</th>\n",
       "      <td>...</td>\n",
       "    </tr>\n",
       "    <tr>\n",
       "      <th>41183</th>\n",
       "      <td>2</td>\n",
       "    </tr>\n",
       "    <tr>\n",
       "      <th>41184</th>\n",
       "      <td>2</td>\n",
       "    </tr>\n",
       "    <tr>\n",
       "      <th>41185</th>\n",
       "      <td>2</td>\n",
       "    </tr>\n",
       "    <tr>\n",
       "      <th>41186</th>\n",
       "      <td>2</td>\n",
       "    </tr>\n",
       "    <tr>\n",
       "      <th>41187</th>\n",
       "      <td>2</td>\n",
       "    </tr>\n",
       "  </tbody>\n",
       "</table>\n",
       "<p>41188 rows × 1 columns</p>\n",
       "</div>"
      ],
      "text/plain": [
       "       campaign\n",
       "0             1\n",
       "1             1\n",
       "2             1\n",
       "3             1\n",
       "4             1\n",
       "...         ...\n",
       "41183         2\n",
       "41184         2\n",
       "41185         2\n",
       "41186         2\n",
       "41187         2\n",
       "\n",
       "[41188 rows x 1 columns]"
      ]
     },
     "execution_count": 59,
     "metadata": {},
     "output_type": "execute_result"
    }
   ],
   "source": [
    "# IDENTIFYING AND REPLACING OUTLIERS WITH THE MEDIAN\n",
    "firstqrtl = np.percentile(data.campaign, 25)\n",
    "thirdqrtl = np.percentile(data.campaign, 75)\n",
    "intrqrtlrng = thirdqrtl-firstqrtl\n",
    "lower_bound = firstqrtl-(1.5*intrqrtlrng)\n",
    "upper_bound = thirdqrtl+(1.5*intrqrtlrng)\n",
    "data.campaign = sorted(data.campaign)\n",
    "median = np.median(data.campaign)\n",
    "for j, i in enumerate(data.campaign):\n",
    "    if (i < lower_bound or i > upper_bound):\n",
    "        data.campaign[j] = median\n",
    "print(\"Outliers are values less than %s and greater than %d \" %(lower_bound, upper_bound))\n",
    "pd.DataFrame(data.campaign)"
   ]
  },
  {
   "cell_type": "code",
   "execution_count": 60,
   "metadata": {},
   "outputs": [
    {
     "data": {
      "image/png": "[encoded data removed]",
      "text/plain": [
       "<Figure size 432x288 with 1 Axes>"
      ]
     },
     "metadata": {
      "needs_background": "light"
     },
     "output_type": "display_data"
    }
   ],
   "source": [
    "#BOX PLOT DIAGRAM AFTER TREATING OUTLIERS\n",
    "boxPlot(data.campaign)"
   ]
  },
  {
   "cell_type": "code",
   "execution_count": 61,
   "metadata": {},
   "outputs": [
    {
     "data": {
      "text/plain": [
       "job           0.801204\n",
       "marital       0.194231\n",
       "education     4.202680\n",
       "default      20.872584\n",
       "housing       2.403613\n",
       "loan          2.403613\n",
       "dtype: float64"
      ]
     },
     "execution_count": 61,
     "metadata": {},
     "output_type": "execute_result"
    }
   ],
   "source": [
    "# ONLY CATEGORICAL ATTRIBUTES HAVE MISSING VALUES\n",
    "percent_missing_categorical = data.__eq__('unknown').sum() * 100 / len(data)\n",
    "missingValueFromData = pd.DataFrame({'column_name': data.columns,'percent_missing': percent_missing_categorical})\n",
    "percent_missing_categorical[1:7]"
   ]
  },
  {
   "cell_type": "markdown",
   "metadata": {},
   "source": [
    "TRANSFORMING THE DATASET"
   ]
  },
  {
   "cell_type": "code",
   "execution_count": 62,
   "metadata": {},
   "outputs": [],
   "source": [
    "# REPLACING CATEGORICAL VALUES WITH BINARY \n",
    "data.contact = data.contact.map({'cellular': 1, 'telephone': 0}).astype('uint8') \n",
    "data.loan = data.loan.map({'yes': 1, 'unknown': 0, 'no' : 0}).astype('uint8')\n",
    "data.housing = data.housing.map({'yes': 1, 'unknown': 0, 'no' : 0}).astype('uint8')\n",
    "data.default = data.default.map({'no': 1, 'unknown': 0, 'yes': 0}).astype('uint8')\n",
    "data.pdays = data.pdays.replace(999, 0).astype('uint8')  \n",
    "data.previous = data.previous.apply(lambda x: 1 if x > 0 else 0).astype('uint8') \n",
    "data.poutcome = data.poutcome.map({'nonexistent':0, 'failure':0, 'success':1}).astype('uint8') "
   ]
  },
  {
   "cell_type": "markdown",
   "metadata": {},
   "source": [
    "SCALING THE DATASET"
   ]
  },
  {
   "cell_type": "code",
   "execution_count": 63,
   "metadata": {},
   "outputs": [],
   "source": [
    "data['emp.var.rate'] = data['emp.var.rate'].apply(lambda x: x*0.0001 if x > 0 else x*-1)\n",
    "data['emp.var.rate'] = data['emp.var.rate'].apply(lambda x: -np.log(x) if x < 1 else np.log(x)).astype('uint8')\n",
    "\n",
    "data['cons.price.idx'] = (data['cons.price.idx'] * 10).astype('uint8')\n",
    "\n",
    "data['cons.conf.idx'] = data['cons.conf.idx'] * -1\n",
    "\n",
    "data['nr.employed'] = np.log2(data['nr.employed']).astype('uint8')\n",
    "data['cons.price.idx'] = np.log2(data['cons.price.idx']).astype('uint8')\n",
    "data['cons.conf.idx'] = np.log2(data['cons.conf.idx']).astype('uint8')\n",
    "data.age = np.log(data.age)\n",
    "\n",
    "data.euribor3m = data.euribor3m.astype('uint8')\n",
    "data.campaign = data.campaign.astype('uint8')\n",
    "\n",
    "def encode(data, attribute):\n",
    "    return pd.concat([data, pd.get_dummies(attribute, prefix=attribute.name)], axis=1)\n",
    "\n",
    "data = encode(data, data.job)\n",
    "data = encode(data, data.month)\n",
    "data = encode(data, data.day_of_week)\n",
    "\n",
    "data.drop(['job', 'month', 'day_of_week'], axis=1, inplace=True)\n",
    "\n",
    "data.drop_duplicates(inplace = True)\n",
    "\n",
    "def duration(data):\n",
    "    data.loc[data['duration'] <= 102, 'duration'] = 1\n",
    "    data.loc[(data['duration'] > 102) & (data['duration'] <= 180)  , 'duration'] = 2\n",
    "    data.loc[(data['duration'] > 180) & (data['duration'] <= 319)  , 'duration'] = 3\n",
    "    data.loc[(data['duration'] > 319) & (data['duration'] <= 645), 'duration'] = 4\n",
    "    data.loc[data['duration']  > 645, 'duration'] = 5\n",
    "    return data\n",
    "duration(data);\n",
    "\n",
    "y = data.y\n",
    "target_encode = ce.target_encoder.TargetEncoder(cols=['marital', 'education']).fit(data, y)\n",
    "numeric_dataset = target_encode.transform(data)\n",
    "numeric_dataset.drop('y', axis=1, inplace=True)"
   ]
  },
  {
   "cell_type": "code",
   "execution_count": 64,
   "metadata": {},
   "outputs": [
    {
     "data": {
      "text/html": [
       "<div>\n",
       "<style scoped>\n",
       "    .dataframe tbody tr th:only-of-type {\n",
       "        vertical-align: middle;\n",
       "    }\n",
       "\n",
       "    .dataframe tbody tr th {\n",
       "        vertical-align: top;\n",
       "    }\n",
       "\n",
       "    .dataframe thead th {\n",
       "        text-align: right;\n",
       "    }\n",
       "</style>\n",
       "<table border=\"1\" class=\"dataframe\">\n",
       "  <thead>\n",
       "    <tr style=\"text-align: right;\">\n",
       "      <th></th>\n",
       "      <th>age</th>\n",
       "      <th>marital</th>\n",
       "      <th>education</th>\n",
       "      <th>default</th>\n",
       "      <th>housing</th>\n",
       "      <th>loan</th>\n",
       "      <th>contact</th>\n",
       "      <th>duration</th>\n",
       "      <th>campaign</th>\n",
       "      <th>pdays</th>\n",
       "      <th>...</th>\n",
       "      <th>month_mar</th>\n",
       "      <th>month_may</th>\n",
       "      <th>month_nov</th>\n",
       "      <th>month_oct</th>\n",
       "      <th>month_sep</th>\n",
       "      <th>day_of_week_fri</th>\n",
       "      <th>day_of_week_mon</th>\n",
       "      <th>day_of_week_thu</th>\n",
       "      <th>day_of_week_tue</th>\n",
       "      <th>day_of_week_wed</th>\n",
       "    </tr>\n",
       "  </thead>\n",
       "  <tbody>\n",
       "    <tr>\n",
       "      <th>0</th>\n",
       "      <td>2.833213</td>\n",
       "      <td>0.122269</td>\n",
       "      <td>0.117697</td>\n",
       "      <td>1</td>\n",
       "      <td>0</td>\n",
       "      <td>0</td>\n",
       "      <td>0</td>\n",
       "      <td>1</td>\n",
       "      <td>1</td>\n",
       "      <td>0</td>\n",
       "      <td>...</td>\n",
       "      <td>0</td>\n",
       "      <td>1</td>\n",
       "      <td>0</td>\n",
       "      <td>0</td>\n",
       "      <td>0</td>\n",
       "      <td>0</td>\n",
       "      <td>1</td>\n",
       "      <td>0</td>\n",
       "      <td>0</td>\n",
       "      <td>0</td>\n",
       "    </tr>\n",
       "    <tr>\n",
       "      <th>1</th>\n",
       "      <td>2.833213</td>\n",
       "      <td>0.122269</td>\n",
       "      <td>0.124860</td>\n",
       "      <td>0</td>\n",
       "      <td>0</td>\n",
       "      <td>0</td>\n",
       "      <td>0</td>\n",
       "      <td>1</td>\n",
       "      <td>1</td>\n",
       "      <td>0</td>\n",
       "      <td>...</td>\n",
       "      <td>0</td>\n",
       "      <td>1</td>\n",
       "      <td>0</td>\n",
       "      <td>0</td>\n",
       "      <td>0</td>\n",
       "      <td>0</td>\n",
       "      <td>1</td>\n",
       "      <td>0</td>\n",
       "      <td>0</td>\n",
       "      <td>0</td>\n",
       "    </tr>\n",
       "    <tr>\n",
       "      <th>2</th>\n",
       "      <td>2.833213</td>\n",
       "      <td>0.122269</td>\n",
       "      <td>0.124860</td>\n",
       "      <td>1</td>\n",
       "      <td>1</td>\n",
       "      <td>0</td>\n",
       "      <td>0</td>\n",
       "      <td>1</td>\n",
       "      <td>1</td>\n",
       "      <td>0</td>\n",
       "      <td>...</td>\n",
       "      <td>0</td>\n",
       "      <td>1</td>\n",
       "      <td>0</td>\n",
       "      <td>0</td>\n",
       "      <td>0</td>\n",
       "      <td>0</td>\n",
       "      <td>1</td>\n",
       "      <td>0</td>\n",
       "      <td>0</td>\n",
       "      <td>0</td>\n",
       "    </tr>\n",
       "    <tr>\n",
       "      <th>3</th>\n",
       "      <td>2.833213</td>\n",
       "      <td>0.122269</td>\n",
       "      <td>0.091358</td>\n",
       "      <td>1</td>\n",
       "      <td>0</td>\n",
       "      <td>0</td>\n",
       "      <td>0</td>\n",
       "      <td>1</td>\n",
       "      <td>1</td>\n",
       "      <td>0</td>\n",
       "      <td>...</td>\n",
       "      <td>0</td>\n",
       "      <td>1</td>\n",
       "      <td>0</td>\n",
       "      <td>0</td>\n",
       "      <td>0</td>\n",
       "      <td>0</td>\n",
       "      <td>1</td>\n",
       "      <td>0</td>\n",
       "      <td>0</td>\n",
       "      <td>0</td>\n",
       "    </tr>\n",
       "    <tr>\n",
       "      <th>4</th>\n",
       "      <td>2.833213</td>\n",
       "      <td>0.122269</td>\n",
       "      <td>0.124860</td>\n",
       "      <td>1</td>\n",
       "      <td>0</td>\n",
       "      <td>1</td>\n",
       "      <td>0</td>\n",
       "      <td>1</td>\n",
       "      <td>1</td>\n",
       "      <td>0</td>\n",
       "      <td>...</td>\n",
       "      <td>0</td>\n",
       "      <td>1</td>\n",
       "      <td>0</td>\n",
       "      <td>0</td>\n",
       "      <td>0</td>\n",
       "      <td>0</td>\n",
       "      <td>1</td>\n",
       "      <td>0</td>\n",
       "      <td>0</td>\n",
       "      <td>0</td>\n",
       "    </tr>\n",
       "    <tr>\n",
       "      <th>5</th>\n",
       "      <td>2.890372</td>\n",
       "      <td>0.122269</td>\n",
       "      <td>0.093788</td>\n",
       "      <td>0</td>\n",
       "      <td>0</td>\n",
       "      <td>0</td>\n",
       "      <td>0</td>\n",
       "      <td>1</td>\n",
       "      <td>1</td>\n",
       "      <td>0</td>\n",
       "      <td>...</td>\n",
       "      <td>0</td>\n",
       "      <td>1</td>\n",
       "      <td>0</td>\n",
       "      <td>0</td>\n",
       "      <td>0</td>\n",
       "      <td>0</td>\n",
       "      <td>1</td>\n",
       "      <td>0</td>\n",
       "      <td>0</td>\n",
       "      <td>0</td>\n",
       "    </tr>\n",
       "    <tr>\n",
       "      <th>6</th>\n",
       "      <td>2.890372</td>\n",
       "      <td>0.122269</td>\n",
       "      <td>0.134335</td>\n",
       "      <td>1</td>\n",
       "      <td>0</td>\n",
       "      <td>0</td>\n",
       "      <td>0</td>\n",
       "      <td>1</td>\n",
       "      <td>1</td>\n",
       "      <td>0</td>\n",
       "      <td>...</td>\n",
       "      <td>0</td>\n",
       "      <td>1</td>\n",
       "      <td>0</td>\n",
       "      <td>0</td>\n",
       "      <td>0</td>\n",
       "      <td>0</td>\n",
       "      <td>1</td>\n",
       "      <td>0</td>\n",
       "      <td>0</td>\n",
       "      <td>0</td>\n",
       "    </tr>\n",
       "    <tr>\n",
       "      <th>7</th>\n",
       "      <td>2.890372</td>\n",
       "      <td>0.122269</td>\n",
       "      <td>0.151199</td>\n",
       "      <td>0</td>\n",
       "      <td>0</td>\n",
       "      <td>0</td>\n",
       "      <td>0</td>\n",
       "      <td>1</td>\n",
       "      <td>1</td>\n",
       "      <td>0</td>\n",
       "      <td>...</td>\n",
       "      <td>0</td>\n",
       "      <td>1</td>\n",
       "      <td>0</td>\n",
       "      <td>0</td>\n",
       "      <td>0</td>\n",
       "      <td>0</td>\n",
       "      <td>1</td>\n",
       "      <td>0</td>\n",
       "      <td>0</td>\n",
       "      <td>0</td>\n",
       "    </tr>\n",
       "    <tr>\n",
       "      <th>8</th>\n",
       "      <td>2.890372</td>\n",
       "      <td>0.158153</td>\n",
       "      <td>0.134335</td>\n",
       "      <td>1</td>\n",
       "      <td>1</td>\n",
       "      <td>0</td>\n",
       "      <td>0</td>\n",
       "      <td>1</td>\n",
       "      <td>1</td>\n",
       "      <td>0</td>\n",
       "      <td>...</td>\n",
       "      <td>0</td>\n",
       "      <td>1</td>\n",
       "      <td>0</td>\n",
       "      <td>0</td>\n",
       "      <td>0</td>\n",
       "      <td>0</td>\n",
       "      <td>1</td>\n",
       "      <td>0</td>\n",
       "      <td>0</td>\n",
       "      <td>0</td>\n",
       "    </tr>\n",
       "    <tr>\n",
       "      <th>9</th>\n",
       "      <td>2.890372</td>\n",
       "      <td>0.158153</td>\n",
       "      <td>0.124860</td>\n",
       "      <td>1</td>\n",
       "      <td>1</td>\n",
       "      <td>0</td>\n",
       "      <td>0</td>\n",
       "      <td>1</td>\n",
       "      <td>1</td>\n",
       "      <td>0</td>\n",
       "      <td>...</td>\n",
       "      <td>0</td>\n",
       "      <td>1</td>\n",
       "      <td>0</td>\n",
       "      <td>0</td>\n",
       "      <td>0</td>\n",
       "      <td>0</td>\n",
       "      <td>1</td>\n",
       "      <td>0</td>\n",
       "      <td>0</td>\n",
       "      <td>0</td>\n",
       "    </tr>\n",
       "  </tbody>\n",
       "</table>\n",
       "<p>10 rows × 44 columns</p>\n",
       "</div>"
      ],
      "text/plain": [
       "        age   marital  education  default  housing  loan  contact  duration  \\\n",
       "0  2.833213  0.122269   0.117697        1        0     0        0         1   \n",
       "1  2.833213  0.122269   0.124860        0        0     0        0         1   \n",
       "2  2.833213  0.122269   0.124860        1        1     0        0         1   \n",
       "3  2.833213  0.122269   0.091358        1        0     0        0         1   \n",
       "4  2.833213  0.122269   0.124860        1        0     1        0         1   \n",
       "5  2.890372  0.122269   0.093788        0        0     0        0         1   \n",
       "6  2.890372  0.122269   0.134335        1        0     0        0         1   \n",
       "7  2.890372  0.122269   0.151199        0        0     0        0         1   \n",
       "8  2.890372  0.158153   0.134335        1        1     0        0         1   \n",
       "9  2.890372  0.158153   0.124860        1        1     0        0         1   \n",
       "\n",
       "   campaign  pdays  ...  month_mar  month_may  month_nov  month_oct  \\\n",
       "0         1      0  ...          0          1          0          0   \n",
       "1         1      0  ...          0          1          0          0   \n",
       "2         1      0  ...          0          1          0          0   \n",
       "3         1      0  ...          0          1          0          0   \n",
       "4         1      0  ...          0          1          0          0   \n",
       "5         1      0  ...          0          1          0          0   \n",
       "6         1      0  ...          0          1          0          0   \n",
       "7         1      0  ...          0          1          0          0   \n",
       "8         1      0  ...          0          1          0          0   \n",
       "9         1      0  ...          0          1          0          0   \n",
       "\n",
       "   month_sep  day_of_week_fri  day_of_week_mon  day_of_week_thu  \\\n",
       "0          0                0                1                0   \n",
       "1          0                0                1                0   \n",
       "2          0                0                1                0   \n",
       "3          0                0                1                0   \n",
       "4          0                0                1                0   \n",
       "5          0                0                1                0   \n",
       "6          0                0                1                0   \n",
       "7          0                0                1                0   \n",
       "8          0                0                1                0   \n",
       "9          0                0                1                0   \n",
       "\n",
       "   day_of_week_tue  day_of_week_wed  \n",
       "0                0                0  \n",
       "1                0                0  \n",
       "2                0                0  \n",
       "3                0                0  \n",
       "4                0                0  \n",
       "5                0                0  \n",
       "6                0                0  \n",
       "7                0                0  \n",
       "8                0                0  \n",
       "9                0                0  \n",
       "\n",
       "[10 rows x 44 columns]"
      ]
     },
     "execution_count": 64,
     "metadata": {},
     "output_type": "execute_result"
    }
   ],
   "source": [
    "numeric_dataset.head(10)"
   ]
  },
  {
   "cell_type": "code",
   "execution_count": 65,
   "metadata": {},
   "outputs": [
    {
     "data": {
      "text/plain": [
       "(34139, 44)"
      ]
     },
     "execution_count": 65,
     "metadata": {},
     "output_type": "execute_result"
    }
   ],
   "source": [
    "numeric_dataset.shape"
   ]
  },
  {
   "cell_type": "markdown",
   "metadata": {},
   "source": [
    "VISUALIZATION OF RELATIONSHIPS BETWEEN DIFFERENT ATTRIBUTES AND THEIR STATISTICAL ANALYSIS"
   ]
  },
  {
   "cell_type": "code",
   "execution_count": 66,
   "metadata": {},
   "outputs": [],
   "source": [
    "df = pd.DataFrame(numeric_dataset)"
   ]
  },
  {
   "cell_type": "code",
   "execution_count": 67,
   "metadata": {},
   "outputs": [
    {
     "data": {
      "text/plain": [
       "<AxesSubplot:xlabel='age', ylabel='education'>"
      ]
     },
     "execution_count": 67,
     "metadata": {},
     "output_type": "execute_result"
    },
    {
     "data": {
      "image/png": "[encoded data removed]",
      "text/plain": [
       "<Figure size 432x288 with 1 Axes>"
      ]
     },
     "metadata": {
      "needs_background": "light"
     },
     "output_type": "display_data"
    }
   ],
   "source": [
    "df.plot.scatter('age','education')"
   ]
  },
  {
   "cell_type": "code",
   "execution_count": 68,
   "metadata": {},
   "outputs": [
    {
     "name": "stdout",
     "output_type": "stream",
     "text": [
      "correlation =  0.11025742045604106\n",
      "p is  8.414463544632235e-93 < 0.05 so we reject the null hypothesis and take the alternative hypothesis.\n"
     ]
    }
   ],
   "source": [
    "# STATISTICAL ANALYSIS BETWEEN NUMERIC ('age') AND CATEGORICAL ('education') ATTRIBUTES IN 'numeric_dataset'\n",
    "pbr_corr,pValue = pointbiserialr(df.age, df.education)\n",
    "print('correlation = ',pbr_corr)\n",
    "a = 0.05\n",
    "if pValue <= a:\n",
    "    print('p is ',pValue, '<',a, 'so we reject the null hypothesis and take the alternative hypothesis.')\n",
    "else:\n",
    "    print('p is ',pValue,'>',a, 'so we accept the null hypothesis.')"
   ]
  },
  {
   "cell_type": "code",
   "execution_count": 69,
   "metadata": {},
   "outputs": [
    {
     "data": {
      "text/plain": [
       "<AxesSubplot:xlabel='education', ylabel='cons.conf.idx'>"
      ]
     },
     "execution_count": 69,
     "metadata": {},
     "output_type": "execute_result"
    },
    {
     "data": {
      "image/png": "[encoded data removed]",
      "text/plain": [
       "<Figure size 432x288 with 1 Axes>"
      ]
     },
     "metadata": {
      "needs_background": "light"
     },
     "output_type": "display_data"
    }
   ],
   "source": [
    "df.plot.scatter('education', 'cons.conf.idx')"
   ]
  },
  {
   "cell_type": "code",
   "execution_count": 70,
   "metadata": {},
   "outputs": [
    {
     "name": "stdout",
     "output_type": "stream",
     "text": [
      "correlation =  -0.07547816976547973\n",
      "p is  2.5376558223943627e-44 < 0.05 so we reject the null hypothesis and take the alternative hypothesis.\n"
     ]
    }
   ],
   "source": [
    "# CORRELATION BETWEEN NUMERIC ('cons.conf.idx') AND CATEGORICAL ('education') ATTRIBUTES IN 'numeric_dataset'\n",
    "pbr_corr,pValue = pointbiserialr(df['cons.conf.idx'], df['education'])\n",
    "print('correlation = ',pbr_corr)\n",
    "a= 0.05\n",
    "if pValue <= a:\n",
    "    print('p is ',pValue, '<',a, 'so we reject the null hypothesis and take the alternative hypothesis.')\n",
    "else:\n",
    "    print('p is ',pValue,'>', a, 'so we accept the null hypothesis.')"
   ]
  },
  {
   "cell_type": "code",
   "execution_count": 71,
   "metadata": {},
   "outputs": [
    {
     "data": {
      "text/plain": [
       "<AxesSubplot:xlabel='education', ylabel='marital'>"
      ]
     },
     "execution_count": 71,
     "metadata": {},
     "output_type": "execute_result"
    },
    {
     "data": {
      "image/png": "[encoded data removed]",
      "text/plain": [
       "<Figure size 432x288 with 1 Axes>"
      ]
     },
     "metadata": {
      "needs_background": "light"
     },
     "output_type": "display_data"
    }
   ],
   "source": [
    "df.plot.scatter('education', 'marital')"
   ]
  },
  {
   "cell_type": "code",
   "execution_count": 72,
   "metadata": {},
   "outputs": [
    {
     "name": "stdout",
     "output_type": "stream",
     "text": [
      "result of chiSquared = 499.9410084267369\n",
      "the criticalValue = 3.841458820694124\n",
      "p is 0.0\n",
      "Since  0.0  < 0.05 we reject H0, relationship exst among the 2 attributes\n"
     ]
    }
   ],
   "source": [
    "# STATISTICAL ANALYSIS BETWEEN CATEGORICAL ('education') AND CATEGORICAL ('marital') ATTRIBUTES IN 'numeric_dataset' \n",
    "prbblty_tbl=pd.crosstab(df[\"education\"],df[\"marital\"])\n",
    "observedValues = prbblty_tbl.values \n",
    "b=stats.chi2_contingency(prbblty_tbl)\n",
    "expectedValues = b[3]\n",
    "number_rws=len(prbblty_tbl.iloc[0:2,0])\n",
    "number_clmns=len(prbblty_tbl.iloc[0,0:2])\n",
    "dgrsOfFrdm=(number_rws-1)*(number_clmns-1)\n",
    "chiSqaured=sum([(i-j)**2./j for i,j in zip(observedValues,expectedValues)])\n",
    "chiSquared_stats=chiSqaured[0]+chiSqaured[1]\n",
    "criticalValue=chi2.ppf(q=1-a,df=dgrsOfFrdm)\n",
    "pValue=1-chi2.cdf(x=chiSquared_stats,df=dgrsOfFrdm)\n",
    "print('result of chiSquared =',chiSquared_stats)\n",
    "print('the criticalValue =',criticalValue)\n",
    "print('p is',pValue)\n",
    "\n",
    "if pValue<=a:\n",
    "    print(\"Since \",pValue, \" <\",a, \"we reject H0, relationship exst among the 2 attributes\")\n",
    "else:\n",
    "    print(\"Since \",pValue, \" >\",a, \"we accept H0, relationship doesnt exist among the 2 attributes\")"
   ]
  },
  {
   "cell_type": "code",
   "execution_count": 73,
   "metadata": {},
   "outputs": [
    {
     "data": {
      "text/plain": [
       "<AxesSubplot:xlabel='education', ylabel='loan'>"
      ]
     },
     "execution_count": 73,
     "metadata": {},
     "output_type": "execute_result"
    },
    {
     "data": {
      "image/png": "[encoded data removed]",
      "text/plain": [
       "<Figure size 432x288 with 1 Axes>"
      ]
     },
     "metadata": {
      "needs_background": "light"
     },
     "output_type": "display_data"
    }
   ],
   "source": [
    "df.plot.scatter('education', 'loan')"
   ]
  },
  {
   "cell_type": "code",
   "execution_count": 74,
   "metadata": {},
   "outputs": [
    {
     "name": "stdout",
     "output_type": "stream",
     "text": [
      "result of chiSquared = 21.02197095094491\n",
      "the criticalValue = 3.841458820694124\n",
      "p is 4.5404663626680275e-06\n",
      "Since  4.5404663626680275e-06  < 0.05 we reject H0, relationship exst among the 2 attributes\n"
     ]
    }
   ],
   "source": [
    "# STATISTICAL ANALYSIS BETWEEN CATEGORICAL ('education') AND CATEGORICAL ('loan') ATTRIBUTES IN 'numeric_dataset' \n",
    "prbblty_tbl=pd.crosstab(df[\"education\"],df[\"loan\"])\n",
    "Observed_Values = prbblty_tbl.values \n",
    "b=stats.chi2_contingency(prbblty_tbl)\n",
    "expectedValues = b[3]\n",
    "number_rws=len(prbblty_tbl.iloc[0:2,0])\n",
    "number_clmns=len(prbblty_tbl.iloc[0,0:2])\n",
    "dgrsOfFrdm=(number_rws-1)*(number_clmns-1)\n",
    "chi_sqrd=sum([(i-j)**2./j for i,j in zip(Observed_Values,expectedValues)])\n",
    "chi_sqrd_stats=chi_sqrd[0]+chi_sqrd[1]\n",
    "crtclValue=chi2.ppf(q=1-a,df=dgrsOfFrdm)\n",
    "pValue=1-chi2.cdf(x=chi_sqrd_stats,df=dgrsOfFrdm)\n",
    "print('result of chiSquared =',chi_sqrd_stats)\n",
    "print('the criticalValue =',crtclValue)\n",
    "print('p is',pValue)\n",
    "\n",
    "if pValue<=a:\n",
    "    print(\"Since \",pValue, \" <\",a, \"we reject H0, relationship exst among the 2 attributes\")\n",
    "else:\n",
    "    print(\"Since \",pValue, \" >\",a, \"we accept H0, relationship doesnt exist among the 2 attributes\")"
   ]
  },
  {
   "cell_type": "code",
   "execution_count": 75,
   "metadata": {},
   "outputs": [
    {
     "data": {
      "text/plain": [
       "<AxesSubplot:xlabel='age', ylabel='duration'>"
      ]
     },
     "execution_count": 75,
     "metadata": {},
     "output_type": "execute_result"
    },
    {
     "data": {
      "image/png": "[encoded data removed]",
      "text/plain": [
       "<Figure size 432x288 with 1 Axes>"
      ]
     },
     "metadata": {
      "needs_background": "light"
     },
     "output_type": "display_data"
    }
   ],
   "source": [
    "df.plot.scatter('age', 'duration')"
   ]
  },
  {
   "cell_type": "code",
   "execution_count": 76,
   "metadata": {},
   "outputs": [
    {
     "name": "stdout",
     "output_type": "stream",
     "text": [
      "[[1.        0.7901309]\n",
      " [0.7901309 1.       ]]\n"
     ]
    }
   ],
   "source": [
    "# STATISTICAL ANALYSIS BETWEEN NUMERIC ('education') AND NUMERIC ('marital') ATTRIBUTES IN 'numeric_dataset' \n",
    "correlation_coffecient = np.corrcoef(df['duration'], df['age'])\n",
    "print(correlation_coffecient)"
   ]
  },
  {
   "cell_type": "code",
   "execution_count": 77,
   "metadata": {},
   "outputs": [
    {
     "name": "stdout",
     "output_type": "stream",
     "text": [
      "Since  0.0  < 0.05 we reject H0, the mean of both attributes are not equal\n"
     ]
    }
   ],
   "source": [
    "z_test ,p_value = stests.ztest(df['duration'], x2=df['age'], value=0, alternative='two-sided')\n",
    "if p_value<=a:\n",
    "    print(\"Since \",p_value, \" <\", a, \"we reject H0, the mean of both attributes are not equal\")\n",
    "else:\n",
    "    print(\"Since \",p_value, \" >\",a, \"we accept H0, the mean of both attributes are equal\")"
   ]
  },
  {
   "cell_type": "markdown",
   "metadata": {},
   "source": [
    "MACHINE LEARNING IMPLEMENTATION "
   ]
  },
  {
   "cell_type": "code",
   "execution_count": 78,
   "metadata": {},
   "outputs": [
    {
     "data": {
      "text/plain": [
       "45200"
      ]
     },
     "execution_count": 78,
     "metadata": {},
     "output_type": "execute_result"
    }
   ],
   "source": [
    "# SPLITING THE DATASET FOR TRAINING AND TESTING\n",
    "random_state = 11\n",
    "x_Train, x_Test, y_Train, y_Test = train_test_split(numeric_dataset, y, test_size=0.2, random_state=random_state)\n",
    "gc.collect()"
   ]
  },
  {
   "cell_type": "code",
   "execution_count": 79,
   "metadata": {},
   "outputs": [
    {
     "name": "stdout",
     "output_type": "stream",
     "text": [
      "(27311, 44)\n",
      "(27311,)\n",
      "(6828, 44)\n",
      "(6828,)\n"
     ]
    }
   ],
   "source": [
    "# CHECK THE SHAPE OF THE NEWLY DATASETS\n",
    "print(x_Train.shape)\n",
    "print(y_Train.shape)\n",
    "print(x_Test.shape)\n",
    "print(y_Test.shape)"
   ]
  },
  {
   "cell_type": "code",
   "execution_count": 80,
   "metadata": {},
   "outputs": [],
   "source": [
    "# BUILD PIPELINE OF CLASSIFIERS\n",
    "\n",
    "n_jobs = -1\n",
    "\n",
    "pipe_lgstcRgrssn = Pipeline([('lr', LogisticRegression(random_state=random_state, n_jobs=n_jobs, max_iter=500))])\n",
    "\n",
    "pipe_rndmFrst = Pipeline([('rf', RandomForestClassifier(random_state=random_state, oob_score=True, n_jobs=n_jobs))])\n",
    "\n",
    "pipe_kNrstNghbr = Pipeline([('knn', KNeighborsClassifier(n_jobs=n_jobs))])\n",
    "\n",
    "pipe_dcsnTr = Pipeline([('dt', DecisionTreeClassifier(random_state=random_state, max_features='auto'))])\n",
    "\n",
    "pipe_bg = Pipeline([('bag',BaggingClassifier(base_estimator=SGDClassifier(random_state=random_state, n_jobs=n_jobs, max_iter=1500),random_state=random_state,oob_score=True,n_jobs=n_jobs))])\n",
    "\n",
    "pipe_sgd = Pipeline([('sgd', SGDClassifier(random_state=random_state, n_jobs=n_jobs, max_iter=1500))])"
   ]
  },
  {
   "cell_type": "code",
   "execution_count": 81,
   "metadata": {},
   "outputs": [],
   "source": [
    "# SET PARAMETERS FOR GRID SEARCH\n",
    "cv = StratifiedKFold(shuffle=True, n_splits=5, random_state=random_state)\n",
    "grid_params_lgstcRgrssn = [{\n",
    "                'lr__penalty': ['l2'],\n",
    "                'lr__C': [0.3, 0.6, 0.7],\n",
    "                'lr__solver': ['sag']\n",
    "                }]\n",
    "\n",
    "grid_params_rndmFrst = [{\n",
    "                'rf__criterion': ['entropy'],\n",
    "                'rf__min_samples_leaf': [80, 100],\n",
    "                'rf__max_depth': [25, 27],\n",
    "                'rf__min_samples_split': [3, 5],\n",
    "                'rf__n_estimators' : [60, 70]\n",
    "                }]\n",
    "grid_params_kNrstNghbr = [{'knn__n_neighbors': [16,17,18]}]\n",
    "\n",
    "grid_params_dcsnTr = [{\n",
    "                'dt__max_depth': [8, 10],\n",
    "                'dt__min_samples_leaf': [1, 3, 5, 7]\n",
    "                  }]\n",
    "\n",
    "grid_params_bg = [{'bag__n_estimators': [10, 15, 20]}]\n",
    "\n",
    "grid_params_sgd = [{\n",
    "                    'sgd__loss': ['log', 'huber'],\n",
    "                    'sgd__learning_rate': ['adaptive'],\n",
    "                    'sgd__eta0': [0.001, 0.01, 0.1],\n",
    "                    'sgd__penalty': ['l1', 'l2', 'elasticnet'], \n",
    "                    'sgd__alpha':[0.1, 1, 5, 10]\n",
    "                    }]"
   ]
  },
  {
   "cell_type": "code",
   "execution_count": 82,
   "metadata": {},
   "outputs": [],
   "source": [
    "# GRID SEARCH OBJECTS \n",
    "gridSearch_logisticRegression = GridSearchCV(pipe_lgstcRgrssn, param_grid=grid_params_lgstcRgrssn,scoring='accuracy', cv=cv) \n",
    "\n",
    "gridSearch_randomForest = GridSearchCV(pipe_rndmFrst, param_grid=grid_params_rndmFrst,scoring='accuracy', cv=cv)\n",
    "\n",
    "gridSearch_k_nearestNeighbor = GridSearchCV(pipe_kNrstNghbr, param_grid=grid_params_kNrstNghbr,scoring='accuracy', cv=cv)\n",
    "\n",
    "gridSearch_decisionTree = GridSearchCV(pipe_dcsnTr, param_grid=grid_params_dcsnTr,scoring='accuracy', cv=cv)\n",
    "\n",
    "gridSearch_bag = GridSearchCV(pipe_bg, param_grid=grid_params_bg, scoring='accuracy', cv=cv)\n",
    "\n",
    "gridSearch_sgd = GridSearchCV(pipe_sgd, param_grid=grid_params_sgd,scoring='accuracy', cv=cv)"
   ]
  },
  {
   "cell_type": "code",
   "execution_count": 83,
   "metadata": {},
   "outputs": [],
   "source": [
    "look_for = [gridSearch_logisticRegression, gridSearch_randomForest , gridSearch_k_nearestNeighbor , gridSearch_decisionTree, gridSearch_bag, gridSearch_sgd]\n",
    "\n",
    "model_dict = {0:'LogisticRegression', 1:'RandomForest', 2:'K_Nearest_Neighbor', 3:'DecisionTree', 4:'Bag', 5:'SGD'}"
   ]
  },
  {
   "cell_type": "code",
   "execution_count": 84,
   "metadata": {},
   "outputs": [
    {
     "name": "stdout",
     "output_type": "stream",
     "text": [
      "\n",
      "+++++++ Start New Model ++++++++++\n",
      "Estimator is LogisticRegression\n",
      "bst prmtrs {'lr__C': 0.7, 'lr__penalty': 'l2', 'lr__solver': 'sag'}\n",
      "bst scr is 0.8836732553130467\n",
      "ROC_AUC is 0.7735971403585877 and accuracy rate is 0.8791739894551845\n",
      "It lasted for 85.993 sec\n",
      "++++++++ End Model +++++++++++++++++++++++++++\n",
      "\n",
      "\n",
      "\n",
      "+++++++ Start New Model ++++++++++\n",
      "Estimator is RandomForest\n",
      "bst prmtrs {'rf__criterion': 'entropy', 'rf__max_depth': 25, 'rf__min_samples_leaf': 100, 'rf__min_samples_split': 3, 'rf__n_estimators': 60}\n",
      "bst scr is 0.8840028049285722\n",
      "ROC_AUC is 0.781642845101628 and accuracy rate is 0.8794669009958992\n",
      "It lasted for 72.571 sec\n",
      "++++++++ End Model +++++++++++++++++++++++++++\n",
      "\n",
      "\n",
      "\n",
      "+++++++ Start New Model ++++++++++\n",
      "Estimator is K_Nearest_Neighbor\n",
      "bst prmtrs {'knn__n_neighbors': 18}\n",
      "bst scr is 0.8815861278560281\n",
      "ROC_AUC is 0.7545360627287834 and accuracy rate is 0.879759812536614\n",
      "It lasted for 123.564 sec\n",
      "++++++++ End Model +++++++++++++++++++++++++++\n",
      "\n",
      "\n",
      "\n",
      "+++++++ Start New Model ++++++++++\n",
      "Estimator is DecisionTree\n",
      "bst prmtrs {'dt__max_depth': 8, 'dt__min_samples_leaf': 7}\n",
      "bst scr is 0.8826846868983736\n",
      "ROC_AUC is 0.7568302931738272 and accuracy rate is 0.8782952548330404\n",
      "It lasted for 1.817 sec\n",
      "++++++++ End Model +++++++++++++++++++++++++++\n",
      "\n",
      "\n",
      "\n",
      "+++++++ Start New Model ++++++++++\n",
      "Estimator is Bag\n",
      "bst prmtrs {'bag__n_estimators': 20}\n",
      "bst scr is 0.883636611878465\n",
      "ROC_AUC is 0.7058612752564781 and accuracy rate is 0.8790275336848272\n",
      "It lasted for 67.439 sec\n",
      "++++++++ End Model +++++++++++++++++++++++++++\n",
      "\n",
      "\n",
      "\n",
      "+++++++ Start New Model ++++++++++\n",
      "Estimator is SGD\n",
      "bst prmtrs {'sgd__alpha': 0.1, 'sgd__eta0': 0.001, 'sgd__learning_rate': 'adaptive', 'sgd__loss': 'log', 'sgd__penalty': 'l2'}\n",
      "bst scr is 0.8753615229727256\n",
      "ROC_AUC is 0.765214187126722 and accuracy rate is 0.8750732278851787\n",
      "It lasted for 128.093 sec\n",
      "++++++++ End Model +++++++++++++++++++++++++++\n",
      "\n",
      "\n"
     ]
    }
   ],
   "source": [
    "result_acc = {}\n",
    "result_auc = {}\n",
    "models = []\n",
    "\n",
    "for index, model in enumerate(look_for):\n",
    "        start = time.time()\n",
    "        print()\n",
    "        print('+++++++ Start New Model ++++++++++')\n",
    "        print('Estimator is {}'.format(model_dict[index]))\n",
    "        model.fit(x_Train, y_Train)\n",
    "        \n",
    "        print('bst prmtrs {}'.format(model.best_params_))\n",
    "        print('bst scr is {}'.format(model.best_score_))\n",
    "        auc = roc_auc_score(y_Test, model.predict_proba(x_Test)[:,1])\n",
    "        \n",
    "        print('ROC_AUC is {} and accuracy rate is {}'.format(auc, model.score(x_Test, y_Test)))\n",
    "        end = time.time()\n",
    "        print('It lasted for {} sec'.format(round(end - start, 3)))\n",
    "        print('++++++++ End Model +++++++++++++++++++++++++++')\n",
    "        print()\n",
    "        print()\n",
    "        models.append(model.best_estimator_)\n",
    "        result_acc[index] = model.best_score_\n",
    "        result_auc[index] = auc"
   ]
  },
  {
   "cell_type": "code",
   "execution_count": 85,
   "metadata": {},
   "outputs": [
    {
     "data": {
      "image/png": "[encoded data removed]",
      "text/plain": [
       "<Figure size 432x288 with 1 Axes>"
      ]
     },
     "metadata": {
      "needs_background": "light"
     },
     "output_type": "display_data"
    }
   ],
   "source": [
    "plt.plot(model_dict.values(), result_acc.values(), c='r')\n",
    "plt.plot(model_dict.values(), result_auc.values(), c='b')\n",
    "plt.xlabel('Models')\n",
    "plt.xticks(rotation=45)\n",
    "plt.ylabel('Accuracy and ROC_AUC')\n",
    "plt.title('Result of Grid Search')\n",
    "plt.legend(['Accuracy', 'ROC_AUC'])\n",
    "plt.show()"
   ]
  },
  {
   "cell_type": "code",
   "execution_count": 86,
   "metadata": {},
   "outputs": [
    {
     "data": {
      "text/html": [
       "<div>\n",
       "<style scoped>\n",
       "    .dataframe tbody tr th:only-of-type {\n",
       "        vertical-align: middle;\n",
       "    }\n",
       "\n",
       "    .dataframe tbody tr th {\n",
       "        vertical-align: top;\n",
       "    }\n",
       "\n",
       "    .dataframe thead th {\n",
       "        text-align: right;\n",
       "    }\n",
       "</style>\n",
       "<table border=\"1\" class=\"dataframe\">\n",
       "  <thead>\n",
       "    <tr style=\"text-align: right;\">\n",
       "      <th></th>\n",
       "      <th>Model</th>\n",
       "      <th>Accuracy_rate</th>\n",
       "      <th>Roc_auc_rate</th>\n",
       "    </tr>\n",
       "  </thead>\n",
       "  <tbody>\n",
       "    <tr>\n",
       "      <th>0</th>\n",
       "      <td>LogisticRegression</td>\n",
       "      <td>0.883673</td>\n",
       "      <td>0.773597</td>\n",
       "    </tr>\n",
       "    <tr>\n",
       "      <th>1</th>\n",
       "      <td>RandomForest</td>\n",
       "      <td>0.884003</td>\n",
       "      <td>0.781643</td>\n",
       "    </tr>\n",
       "    <tr>\n",
       "      <th>2</th>\n",
       "      <td>K_Nearest_Neighbor</td>\n",
       "      <td>0.881586</td>\n",
       "      <td>0.754536</td>\n",
       "    </tr>\n",
       "    <tr>\n",
       "      <th>3</th>\n",
       "      <td>DecisionTree</td>\n",
       "      <td>0.882685</td>\n",
       "      <td>0.756830</td>\n",
       "    </tr>\n",
       "    <tr>\n",
       "      <th>4</th>\n",
       "      <td>Bag</td>\n",
       "      <td>0.883637</td>\n",
       "      <td>0.705861</td>\n",
       "    </tr>\n",
       "    <tr>\n",
       "      <th>5</th>\n",
       "      <td>SGD</td>\n",
       "      <td>0.875362</td>\n",
       "      <td>0.765214</td>\n",
       "    </tr>\n",
       "  </tbody>\n",
       "</table>\n",
       "</div>"
      ],
      "text/plain": [
       "                Model  Accuracy_rate  Roc_auc_rate\n",
       "0  LogisticRegression       0.883673      0.773597\n",
       "1        RandomForest       0.884003      0.781643\n",
       "2  K_Nearest_Neighbor       0.881586      0.754536\n",
       "3        DecisionTree       0.882685      0.756830\n",
       "4                 Bag       0.883637      0.705861\n",
       "5                 SGD       0.875362      0.765214"
      ]
     },
     "execution_count": 86,
     "metadata": {},
     "output_type": "execute_result"
    }
   ],
   "source": [
    "pd.DataFrame(list(zip(model_dict.values(), result_acc.values(), result_auc.values())), columns=['Model', 'Accuracy_rate','Roc_auc_rate'])"
   ]
  },
  {
   "cell_type": "code",
   "execution_count": 87,
   "metadata": {},
   "outputs": [
    {
     "name": "stderr",
     "output_type": "stream",
     "text": [
      "100%|██████████| 39/39 [01:19<00:00,  2.03s/it]"
     ]
    },
    {
     "name": "stdout",
     "output_type": "stream",
     "text": [
      "max oob 0.8839295521950862 and number of estimators 195\n"
     ]
    },
    {
     "name": "stderr",
     "output_type": "stream",
     "text": [
      "\n"
     ]
    },
    {
     "data": {
      "image/png": "[encoded data removed]",
      "text/plain": [
       "<Figure size 432x288 with 1 Axes>"
      ]
     },
     "metadata": {
      "needs_background": "light"
     },
     "output_type": "display_data"
    }
   ],
   "source": [
    "def graph(model, xTrain, yTrain):\n",
    "    obbList = []\n",
    "    estmt = list(range(5, 200, 5))\n",
    "    for i in tqdm(estmt):\n",
    "        rndmFrst = model(n_estimators=i, criterion='entropy', random_state=11, oob_score=True, n_jobs=-1, max_depth=25, min_samples_leaf=80, min_samples_split=3,)\n",
    "        rndmFrst.fit(xTrain, yTrain)\n",
    "        obbList.append(rndmFrst.oob_score_)\n",
    "    print('max oob {} and number of estimators {}'.format(max(obbList), estmt[np.argmax(obbList)]))\n",
    "    plt.plot(estmt, obbList)\n",
    "    plt.title('model')\n",
    "    plt.xlabel('number of estimators')\n",
    "    plt.ylabel('oob score')\n",
    "    plt.show()\n",
    "    \n",
    "graph(RandomForestClassifier, x_Train, y_Train)"
   ]
  },
  {
   "cell_type": "code",
   "execution_count": 88,
   "metadata": {},
   "outputs": [
    {
     "data": {
      "image/png": "[encoded data removed]",
      "text/plain": [
       "<Figure size 576x576 with 1 Axes>"
      ]
     },
     "metadata": {
      "needs_background": "light"
     },
     "output_type": "display_data"
    }
   ],
   "source": [
    "# FEATURES INCLUDED IN THE FINAL MODEL\n",
    "def build_feature_importance(model, xTrain, yTrain):\n",
    "    \n",
    "    models = RandomForestClassifier(criterion='entropy', random_state=11, oob_score=True, n_jobs=-1, max_depth=25, min_samples_leaf=80, min_samples_split=3, n_estimators=70)\n",
    "    models.fit(xTrain, yTrain)\n",
    "    data = pd.DataFrame(models.feature_importances_, xTrain.columns, columns=[\"feature\"])\n",
    "    data = data.sort_values(by='feature', ascending=False).reset_index()\n",
    "    plt.figure(figsize=[8,8])\n",
    "    sbrn.barplot(x='index', y='feature', data=data[:10], palette=\"RdBu_r\")\n",
    "    plt.title('Feature inportance of Random Forest after Grid Search')\n",
    "    plt.xticks(rotation=45)\n",
    "    plt.show()\n",
    "    \n",
    "build_feature_importance(RandomForestClassifier, x_Train, y_Train)"
   ]
  }
 ],
 "metadata": {
  "interpreter": {
   "hash": "948d73eb6dfda2e804d788ca8e9f193cc8a7762f6fd3fe59d9c3fe882d54f9f4"
  },
  "kernelspec": {
   "display_name": "Python 3.9.7 64-bit ('base': conda)",
   "language": "python",
   "name": "python3"
  },
  "language_info": {
   "codemirror_mode": {
    "name": "ipython",
    "version": 3
   },
   "file_extension": ".py",
   "mimetype": "text/x-python",
   "name": "python",
   "nbconvert_exporter": "python",
   "pygments_lexer": "ipython3",
   "version": "3.9.7"
  },
  "orig_nbformat": 4
 },
 "nbformat": 4,
 "nbformat_minor": 2
}
